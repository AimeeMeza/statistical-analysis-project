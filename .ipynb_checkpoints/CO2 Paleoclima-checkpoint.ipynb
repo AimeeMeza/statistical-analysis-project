{
 "cells": [
  {
   "cell_type": "markdown",
   "metadata": {},
   "source": [
    "### Importar librerías "
   ]
  },
  {
   "cell_type": "code",
   "execution_count": 1,
   "metadata": {},
   "outputs": [],
   "source": [
    "%matplotlib inline\n",
    "\n",
    "import pandas as pd\n",
    "import numpy as np\n",
    "import matplotlib.pyplot as plt\n",
    "import seaborn as sns\n",
    "import scipy.stats as stats\n",
    "import statsmodels.api as sm\n",
    "import matplotlib\n",
    "import datetime\n",
    "import itertools\n",
    "from statsmodels.formula.api import ols\n",
    "from scipy.stats import ttest_1samp\n",
    "from scipy.stats import linregress\n",
    "from scipy.interpolate import interp1d\n",
    "from statsmodels.stats.proportion import proportions_ztest as proportion\n",
    "from pylab import rcParams\n",
    "from pandas.plotting import lag_plot\n",
    "from statsmodels.tsa.ar_model import AR\n",
    "from statsmodels.tsa.stattools import adfuller\n",
    "from statsmodels.tsa.arima_model import ARMA\n",
    "from statsmodels.graphics.api import qqplot\n",
    "from statsmodels.tools.eval_measures import rmse\n"
   ]
  },
  {
   "cell_type": "code",
   "execution_count": 2,
   "metadata": {},
   "outputs": [],
   "source": [
    "co2_paleo=pd.read_csv('antarctica2015co2domec_onlydata.csv')"
   ]
  },
  {
   "cell_type": "markdown",
   "metadata": {},
   "source": [
    "### Exploración de datos "
   ]
  },
  {
   "cell_type": "code",
   "execution_count": 3,
   "metadata": {},
   "outputs": [
    {
     "data": {
      "text/html": [
       "<div>\n",
       "<style scoped>\n",
       "    .dataframe tbody tr th:only-of-type {\n",
       "        vertical-align: middle;\n",
       "    }\n",
       "\n",
       "    .dataframe tbody tr th {\n",
       "        vertical-align: top;\n",
       "    }\n",
       "\n",
       "    .dataframe thead th {\n",
       "        text-align: right;\n",
       "    }\n",
       "</style>\n",
       "<table border=\"1\" class=\"dataframe\">\n",
       "  <thead>\n",
       "    <tr style=\"text-align: right;\">\n",
       "      <th></th>\n",
       "      <th>depth_m</th>\n",
       "      <th>age_gas_calBP</th>\n",
       "      <th>age_gas_calBP.1</th>\n",
       "      <th>co2_ppm</th>\n",
       "      <th>co2_1s_ppm</th>\n",
       "      <th>notes</th>\n",
       "      <th>Unnamed: 6</th>\n",
       "      <th>Unnamed: 7</th>\n",
       "    </tr>\n",
       "  </thead>\n",
       "  <tbody>\n",
       "    <tr>\n",
       "      <td>0</td>\n",
       "      <td>102.83</td>\n",
       "      <td>137.0</td>\n",
       "      <td>350.11</td>\n",
       "      <td>280.4</td>\n",
       "      <td>1.8</td>\n",
       "      <td>Dome C (0-22 kyr BP)  Monnin et al. (2001+2004...</td>\n",
       "      <td>NaN</td>\n",
       "      <td>NaN</td>\n",
       "    </tr>\n",
       "    <tr>\n",
       "      <td>1</td>\n",
       "      <td>106.89</td>\n",
       "      <td>268.0</td>\n",
       "      <td>486.69</td>\n",
       "      <td>274.9</td>\n",
       "      <td>0.7</td>\n",
       "      <td>Dome C (0-22 kyr BP)  Monnin et al. (2001+2004...</td>\n",
       "      <td>NaN</td>\n",
       "      <td>NaN</td>\n",
       "    </tr>\n",
       "    <tr>\n",
       "      <td>2</td>\n",
       "      <td>107.20</td>\n",
       "      <td>279.0</td>\n",
       "      <td>501.20</td>\n",
       "      <td>277.9</td>\n",
       "      <td>0.7</td>\n",
       "      <td>Dome C (0-22 kyr BP)  Monnin et al. (2001+2004...</td>\n",
       "      <td>NaN</td>\n",
       "      <td>NaN</td>\n",
       "    </tr>\n",
       "    <tr>\n",
       "      <td>3</td>\n",
       "      <td>110.25</td>\n",
       "      <td>395.0</td>\n",
       "      <td>539.65</td>\n",
       "      <td>279.1</td>\n",
       "      <td>1.3</td>\n",
       "      <td>Dome C (0-22 kyr BP)  Monnin et al. (2001+2004...</td>\n",
       "      <td>NaN</td>\n",
       "      <td>NaN</td>\n",
       "    </tr>\n",
       "    <tr>\n",
       "      <td>4</td>\n",
       "      <td>110.50</td>\n",
       "      <td>404.0</td>\n",
       "      <td>539.89</td>\n",
       "      <td>281.9</td>\n",
       "      <td>1.1</td>\n",
       "      <td>Dome C (0-22 kyr BP)  Monnin et al. (2001+2004...</td>\n",
       "      <td>NaN</td>\n",
       "      <td>NaN</td>\n",
       "    </tr>\n",
       "  </tbody>\n",
       "</table>\n",
       "</div>"
      ],
      "text/plain": [
       "   depth_m  age_gas_calBP  age_gas_calBP.1  co2_ppm co2_1s_ppm  \\\n",
       "0   102.83          137.0           350.11    280.4        1.8   \n",
       "1   106.89          268.0           486.69    274.9        0.7   \n",
       "2   107.20          279.0           501.20    277.9        0.7   \n",
       "3   110.25          395.0           539.65    279.1        1.3   \n",
       "4   110.50          404.0           539.89    281.9        1.1   \n",
       "\n",
       "                                               notes  Unnamed: 6  Unnamed: 7  \n",
       "0  Dome C (0-22 kyr BP)  Monnin et al. (2001+2004...         NaN         NaN  \n",
       "1  Dome C (0-22 kyr BP)  Monnin et al. (2001+2004...         NaN         NaN  \n",
       "2  Dome C (0-22 kyr BP)  Monnin et al. (2001+2004...         NaN         NaN  \n",
       "3  Dome C (0-22 kyr BP)  Monnin et al. (2001+2004...         NaN         NaN  \n",
       "4  Dome C (0-22 kyr BP)  Monnin et al. (2001+2004...         NaN         NaN  "
      ]
     },
     "execution_count": 3,
     "metadata": {},
     "output_type": "execute_result"
    }
   ],
   "source": [
    "#Exploración de datos\n",
    "co2_df=pd.DataFrame(co2_paleo)\n",
    "co2_df.head()"
   ]
  },
  {
   "cell_type": "code",
   "execution_count": 4,
   "metadata": {},
   "outputs": [
    {
     "data": {
      "text/plain": [
       "depth_m            float64\n",
       "age_gas_calBP      float64\n",
       "age_gas_calBP.1    float64\n",
       "co2_ppm            float64\n",
       "co2_1s_ppm          object\n",
       "notes               object\n",
       "Unnamed: 6         float64\n",
       "Unnamed: 7         float64\n",
       "dtype: object"
      ]
     },
     "execution_count": 4,
     "metadata": {},
     "output_type": "execute_result"
    }
   ],
   "source": [
    "co2_df.dtypes"
   ]
  },
  {
   "cell_type": "code",
   "execution_count": 5,
   "metadata": {},
   "outputs": [
    {
     "data": {
      "text/plain": [
       "(1423, 8)"
      ]
     },
     "execution_count": 5,
     "metadata": {},
     "output_type": "execute_result"
    }
   ],
   "source": [
    "co2_df.shape"
   ]
  },
  {
   "cell_type": "code",
   "execution_count": 6,
   "metadata": {},
   "outputs": [
    {
     "data": {
      "text/html": [
       "<div>\n",
       "<style scoped>\n",
       "    .dataframe tbody tr th:only-of-type {\n",
       "        vertical-align: middle;\n",
       "    }\n",
       "\n",
       "    .dataframe tbody tr th {\n",
       "        vertical-align: top;\n",
       "    }\n",
       "\n",
       "    .dataframe thead th {\n",
       "        text-align: right;\n",
       "    }\n",
       "</style>\n",
       "<table border=\"1\" class=\"dataframe\">\n",
       "  <thead>\n",
       "    <tr style=\"text-align: right;\">\n",
       "      <th></th>\n",
       "      <th>depth_m</th>\n",
       "      <th>age_gas_calBP</th>\n",
       "      <th>age_gas_calBP.1</th>\n",
       "      <th>co2_ppm</th>\n",
       "      <th>Unnamed: 6</th>\n",
       "      <th>Unnamed: 7</th>\n",
       "    </tr>\n",
       "  </thead>\n",
       "  <tbody>\n",
       "    <tr>\n",
       "      <td>count</td>\n",
       "      <td>1423.000000</td>\n",
       "      <td>1031.000000</td>\n",
       "      <td>1423.000000</td>\n",
       "      <td>1423.000000</td>\n",
       "      <td>0.0</td>\n",
       "      <td>0.0</td>\n",
       "    </tr>\n",
       "    <tr>\n",
       "      <td>mean</td>\n",
       "      <td>2430.499824</td>\n",
       "      <td>407569.659777</td>\n",
       "      <td>484705.671314</td>\n",
       "      <td>229.639051</td>\n",
       "      <td>NaN</td>\n",
       "      <td>NaN</td>\n",
       "    </tr>\n",
       "    <tr>\n",
       "      <td>std</td>\n",
       "      <td>1058.606383</td>\n",
       "      <td>294306.770060</td>\n",
       "      <td>281992.615631</td>\n",
       "      <td>27.201772</td>\n",
       "      <td>NaN</td>\n",
       "      <td>NaN</td>\n",
       "    </tr>\n",
       "    <tr>\n",
       "      <td>min</td>\n",
       "      <td>102.830000</td>\n",
       "      <td>137.000000</td>\n",
       "      <td>350.110000</td>\n",
       "      <td>171.600000</td>\n",
       "      <td>NaN</td>\n",
       "      <td>NaN</td>\n",
       "    </tr>\n",
       "    <tr>\n",
       "      <td>25%</td>\n",
       "      <td>1790.250000</td>\n",
       "      <td>21134.000000</td>\n",
       "      <td>135904.000000</td>\n",
       "      <td>206.800000</td>\n",
       "      <td>NaN</td>\n",
       "      <td>NaN</td>\n",
       "    </tr>\n",
       "    <tr>\n",
       "      <td>50%</td>\n",
       "      <td>3006.450000</td>\n",
       "      <td>502625.000000</td>\n",
       "      <td>587891.270000</td>\n",
       "      <td>231.500000</td>\n",
       "      <td>NaN</td>\n",
       "      <td>NaN</td>\n",
       "    </tr>\n",
       "    <tr>\n",
       "      <td>75%</td>\n",
       "      <td>3107.930000</td>\n",
       "      <td>680764.000000</td>\n",
       "      <td>705245.560000</td>\n",
       "      <td>250.545000</td>\n",
       "      <td>NaN</td>\n",
       "      <td>NaN</td>\n",
       "    </tr>\n",
       "    <tr>\n",
       "      <td>max</td>\n",
       "      <td>3200.340000</td>\n",
       "      <td>798893.000000</td>\n",
       "      <td>805668.870000</td>\n",
       "      <td>290.490000</td>\n",
       "      <td>NaN</td>\n",
       "      <td>NaN</td>\n",
       "    </tr>\n",
       "  </tbody>\n",
       "</table>\n",
       "</div>"
      ],
      "text/plain": [
       "           depth_m  age_gas_calBP  age_gas_calBP.1      co2_ppm  Unnamed: 6  \\\n",
       "count  1423.000000    1031.000000      1423.000000  1423.000000         0.0   \n",
       "mean   2430.499824  407569.659777    484705.671314   229.639051         NaN   \n",
       "std    1058.606383  294306.770060    281992.615631    27.201772         NaN   \n",
       "min     102.830000     137.000000       350.110000   171.600000         NaN   \n",
       "25%    1790.250000   21134.000000    135904.000000   206.800000         NaN   \n",
       "50%    3006.450000  502625.000000    587891.270000   231.500000         NaN   \n",
       "75%    3107.930000  680764.000000    705245.560000   250.545000         NaN   \n",
       "max    3200.340000  798893.000000    805668.870000   290.490000         NaN   \n",
       "\n",
       "       Unnamed: 7  \n",
       "count         0.0  \n",
       "mean          NaN  \n",
       "std           NaN  \n",
       "min           NaN  \n",
       "25%           NaN  \n",
       "50%           NaN  \n",
       "75%           NaN  \n",
       "max           NaN  "
      ]
     },
     "execution_count": 6,
     "metadata": {},
     "output_type": "execute_result"
    }
   ],
   "source": [
    "co2_df.describe() "
   ]
  },
  {
   "cell_type": "code",
   "execution_count": 7,
   "metadata": {},
   "outputs": [
    {
     "data": {
      "text/plain": [
       "depth_m               0\n",
       "age_gas_calBP       392\n",
       "age_gas_calBP.1       0\n",
       "co2_ppm               0\n",
       "co2_1s_ppm          128\n",
       "notes                 0\n",
       "Unnamed: 6         1423\n",
       "Unnamed: 7         1423\n",
       "dtype: int64"
      ]
     },
     "execution_count": 7,
     "metadata": {},
     "output_type": "execute_result"
    }
   ],
   "source": [
    "co2_df.isnull().sum()"
   ]
  },
  {
   "cell_type": "markdown",
   "metadata": {},
   "source": [
    "En este analisis de datos , podemos observar que hay 2 columnas con todos los campos nulos, 1 que es sigma mean, y la otra es edad del gas, en este caso tenemos dos columnas de edad del gas, asi que eliminaremos la que tiene mas valores ,nulos y ocuparemos la segunda columna de edad del gas que esta en escala AICC2012. para saber el significado de cada columna es necesario leer los datos he instrucciones que viene en el archivo de texto, extraído de Noaa en las instrucciones de README.\n",
    "Se realizara una limpieza de datos."
   ]
  },
  {
   "cell_type": "markdown",
   "metadata": {},
   "source": [
    "### Limpieza de datos "
   ]
  },
  {
   "cell_type": "markdown",
   "metadata": {},
   "source": [
    "Eliminación de columnas"
   ]
  },
  {
   "cell_type": "code",
   "execution_count": 8,
   "metadata": {},
   "outputs": [],
   "source": [
    "co2_df=co2_df.drop(['age_gas_calBP', 'Unnamed: 6', 'Unnamed: 7'], axis=1)"
   ]
  },
  {
   "cell_type": "code",
   "execution_count": 9,
   "metadata": {},
   "outputs": [
    {
     "data": {
      "text/plain": [
       "depth_m              0\n",
       "age_gas_calBP.1      0\n",
       "co2_ppm              0\n",
       "co2_1s_ppm         128\n",
       "notes                0\n",
       "dtype: int64"
      ]
     },
     "execution_count": 9,
     "metadata": {},
     "output_type": "execute_result"
    }
   ],
   "source": [
    "co2_df.isnull().sum() "
   ]
  },
  {
   "cell_type": "markdown",
   "metadata": {},
   "source": [
    "Quitar filas que continenen algún valor nulo en la columna 'co2_1s_ppm' que es sigma mean, esto debido a que queremos datos completos"
   ]
  },
  {
   "cell_type": "code",
   "execution_count": 10,
   "metadata": {},
   "outputs": [],
   "source": [
    "co2_df=co2_df.dropna(subset=['co2_1s_ppm'])"
   ]
  },
  {
   "cell_type": "code",
   "execution_count": 11,
   "metadata": {},
   "outputs": [
    {
     "data": {
      "text/plain": [
       "depth_m            0\n",
       "age_gas_calBP.1    0\n",
       "co2_ppm            0\n",
       "co2_1s_ppm         0\n",
       "notes              0\n",
       "dtype: int64"
      ]
     },
     "execution_count": 11,
     "metadata": {},
     "output_type": "execute_result"
    }
   ],
   "source": [
    "co2_df.isnull().sum()"
   ]
  },
  {
   "cell_type": "code",
   "execution_count": 12,
   "metadata": {},
   "outputs": [
    {
     "data": {
      "text/html": [
       "<div>\n",
       "<style scoped>\n",
       "    .dataframe tbody tr th:only-of-type {\n",
       "        vertical-align: middle;\n",
       "    }\n",
       "\n",
       "    .dataframe tbody tr th {\n",
       "        vertical-align: top;\n",
       "    }\n",
       "\n",
       "    .dataframe thead th {\n",
       "        text-align: right;\n",
       "    }\n",
       "</style>\n",
       "<table border=\"1\" class=\"dataframe\">\n",
       "  <thead>\n",
       "    <tr style=\"text-align: right;\">\n",
       "      <th></th>\n",
       "      <th>depth_m</th>\n",
       "      <th>age_gas_calBP.1</th>\n",
       "      <th>co2_ppm</th>\n",
       "      <th>co2_1s_ppm</th>\n",
       "      <th>notes</th>\n",
       "    </tr>\n",
       "  </thead>\n",
       "  <tbody>\n",
       "    <tr>\n",
       "      <td>0</td>\n",
       "      <td>102.83</td>\n",
       "      <td>350.11</td>\n",
       "      <td>280.4</td>\n",
       "      <td>1.8</td>\n",
       "      <td>Dome C (0-22 kyr BP)  Monnin et al. (2001+2004...</td>\n",
       "    </tr>\n",
       "    <tr>\n",
       "      <td>1</td>\n",
       "      <td>106.89</td>\n",
       "      <td>486.69</td>\n",
       "      <td>274.9</td>\n",
       "      <td>0.7</td>\n",
       "      <td>Dome C (0-22 kyr BP)  Monnin et al. (2001+2004...</td>\n",
       "    </tr>\n",
       "    <tr>\n",
       "      <td>2</td>\n",
       "      <td>107.20</td>\n",
       "      <td>501.20</td>\n",
       "      <td>277.9</td>\n",
       "      <td>0.7</td>\n",
       "      <td>Dome C (0-22 kyr BP)  Monnin et al. (2001+2004...</td>\n",
       "    </tr>\n",
       "    <tr>\n",
       "      <td>3</td>\n",
       "      <td>110.25</td>\n",
       "      <td>539.65</td>\n",
       "      <td>279.1</td>\n",
       "      <td>1.3</td>\n",
       "      <td>Dome C (0-22 kyr BP)  Monnin et al. (2001+2004...</td>\n",
       "    </tr>\n",
       "    <tr>\n",
       "      <td>4</td>\n",
       "      <td>110.50</td>\n",
       "      <td>539.89</td>\n",
       "      <td>281.9</td>\n",
       "      <td>1.1</td>\n",
       "      <td>Dome C (0-22 kyr BP)  Monnin et al. (2001+2004...</td>\n",
       "    </tr>\n",
       "  </tbody>\n",
       "</table>\n",
       "</div>"
      ],
      "text/plain": [
       "   depth_m  age_gas_calBP.1  co2_ppm co2_1s_ppm  \\\n",
       "0   102.83           350.11    280.4        1.8   \n",
       "1   106.89           486.69    274.9        0.7   \n",
       "2   107.20           501.20    277.9        0.7   \n",
       "3   110.25           539.65    279.1        1.3   \n",
       "4   110.50           539.89    281.9        1.1   \n",
       "\n",
       "                                               notes  \n",
       "0  Dome C (0-22 kyr BP)  Monnin et al. (2001+2004...  \n",
       "1  Dome C (0-22 kyr BP)  Monnin et al. (2001+2004...  \n",
       "2  Dome C (0-22 kyr BP)  Monnin et al. (2001+2004...  \n",
       "3  Dome C (0-22 kyr BP)  Monnin et al. (2001+2004...  \n",
       "4  Dome C (0-22 kyr BP)  Monnin et al. (2001+2004...  "
      ]
     },
     "execution_count": 12,
     "metadata": {},
     "output_type": "execute_result"
    }
   ],
   "source": [
    "co2_df.head()"
   ]
  },
  {
   "cell_type": "code",
   "execution_count": 13,
   "metadata": {},
   "outputs": [
    {
     "data": {
      "text/plain": [
       "(1295, 5)"
      ]
     },
     "execution_count": 13,
     "metadata": {},
     "output_type": "execute_result"
    }
   ],
   "source": [
    "co2_df.shape"
   ]
  },
  {
   "cell_type": "markdown",
   "metadata": {},
   "source": [
    "Dentro de esta limpieza eliminaremos registros duplicados"
   ]
  },
  {
   "cell_type": "code",
   "execution_count": 14,
   "metadata": {},
   "outputs": [],
   "source": [
    "co2_df=co2_df.drop_duplicates()"
   ]
  },
  {
   "cell_type": "code",
   "execution_count": 15,
   "metadata": {},
   "outputs": [
    {
     "data": {
      "text/plain": [
       "(1295, 5)"
      ]
     },
     "execution_count": 15,
     "metadata": {},
     "output_type": "execute_result"
    }
   ],
   "source": [
    "co2_df.shape "
   ]
  },
  {
   "cell_type": "markdown",
   "metadata": {},
   "source": [
    "Convertiremos una columna objeto a flotante "
   ]
  },
  {
   "cell_type": "code",
   "execution_count": 16,
   "metadata": {},
   "outputs": [],
   "source": [
    "co2_df['co2_1s_ppm'] = co2_df.co2_1s_ppm.astype(float)"
   ]
  },
  {
   "cell_type": "code",
   "execution_count": 17,
   "metadata": {},
   "outputs": [
    {
     "data": {
      "text/plain": [
       "depth_m            float64\n",
       "age_gas_calBP.1    float64\n",
       "co2_ppm            float64\n",
       "co2_1s_ppm         float64\n",
       "notes               object\n",
       "dtype: object"
      ]
     },
     "execution_count": 17,
     "metadata": {},
     "output_type": "execute_result"
    }
   ],
   "source": [
    "co2_df.dtypes "
   ]
  },
  {
   "cell_type": "markdown",
   "metadata": {},
   "source": [
    "Renombraremos las columnas para facilitar el uso de los datos"
   ]
  },
  {
   "cell_type": "code",
   "execution_count": 18,
   "metadata": {},
   "outputs": [],
   "source": [
    "co2_df.columns = ['depth','age_gas','ppm','Sppm','notes']"
   ]
  },
  {
   "cell_type": "code",
   "execution_count": 19,
   "metadata": {},
   "outputs": [
    {
     "data": {
      "text/html": [
       "<div>\n",
       "<style scoped>\n",
       "    .dataframe tbody tr th:only-of-type {\n",
       "        vertical-align: middle;\n",
       "    }\n",
       "\n",
       "    .dataframe tbody tr th {\n",
       "        vertical-align: top;\n",
       "    }\n",
       "\n",
       "    .dataframe thead th {\n",
       "        text-align: right;\n",
       "    }\n",
       "</style>\n",
       "<table border=\"1\" class=\"dataframe\">\n",
       "  <thead>\n",
       "    <tr style=\"text-align: right;\">\n",
       "      <th></th>\n",
       "      <th>depth</th>\n",
       "      <th>age_gas</th>\n",
       "      <th>ppm</th>\n",
       "      <th>Sppm</th>\n",
       "      <th>notes</th>\n",
       "    </tr>\n",
       "  </thead>\n",
       "  <tbody>\n",
       "    <tr>\n",
       "      <td>0</td>\n",
       "      <td>102.83</td>\n",
       "      <td>350.11</td>\n",
       "      <td>280.4</td>\n",
       "      <td>1.8</td>\n",
       "      <td>Dome C (0-22 kyr BP)  Monnin et al. (2001+2004...</td>\n",
       "    </tr>\n",
       "    <tr>\n",
       "      <td>1</td>\n",
       "      <td>106.89</td>\n",
       "      <td>486.69</td>\n",
       "      <td>274.9</td>\n",
       "      <td>0.7</td>\n",
       "      <td>Dome C (0-22 kyr BP)  Monnin et al. (2001+2004...</td>\n",
       "    </tr>\n",
       "    <tr>\n",
       "      <td>2</td>\n",
       "      <td>107.20</td>\n",
       "      <td>501.20</td>\n",
       "      <td>277.9</td>\n",
       "      <td>0.7</td>\n",
       "      <td>Dome C (0-22 kyr BP)  Monnin et al. (2001+2004...</td>\n",
       "    </tr>\n",
       "    <tr>\n",
       "      <td>3</td>\n",
       "      <td>110.25</td>\n",
       "      <td>539.65</td>\n",
       "      <td>279.1</td>\n",
       "      <td>1.3</td>\n",
       "      <td>Dome C (0-22 kyr BP)  Monnin et al. (2001+2004...</td>\n",
       "    </tr>\n",
       "    <tr>\n",
       "      <td>4</td>\n",
       "      <td>110.50</td>\n",
       "      <td>539.89</td>\n",
       "      <td>281.9</td>\n",
       "      <td>1.1</td>\n",
       "      <td>Dome C (0-22 kyr BP)  Monnin et al. (2001+2004...</td>\n",
       "    </tr>\n",
       "  </tbody>\n",
       "</table>\n",
       "</div>"
      ],
      "text/plain": [
       "    depth  age_gas    ppm  Sppm  \\\n",
       "0  102.83   350.11  280.4   1.8   \n",
       "1  106.89   486.69  274.9   0.7   \n",
       "2  107.20   501.20  277.9   0.7   \n",
       "3  110.25   539.65  279.1   1.3   \n",
       "4  110.50   539.89  281.9   1.1   \n",
       "\n",
       "                                               notes  \n",
       "0  Dome C (0-22 kyr BP)  Monnin et al. (2001+2004...  \n",
       "1  Dome C (0-22 kyr BP)  Monnin et al. (2001+2004...  \n",
       "2  Dome C (0-22 kyr BP)  Monnin et al. (2001+2004...  \n",
       "3  Dome C (0-22 kyr BP)  Monnin et al. (2001+2004...  \n",
       "4  Dome C (0-22 kyr BP)  Monnin et al. (2001+2004...  "
      ]
     },
     "execution_count": 19,
     "metadata": {},
     "output_type": "execute_result"
    }
   ],
   "source": [
    "co2_df.head() "
   ]
  },
  {
   "cell_type": "markdown",
   "metadata": {},
   "source": [
    "Ya limpios los datos , procedemos a empezar con un analisis estadistico"
   ]
  },
  {
   "cell_type": "markdown",
   "metadata": {},
   "source": [
    "## Análisis estadístico"
   ]
  },
  {
   "cell_type": "markdown",
   "metadata": {},
   "source": [
    "### Prueba de hipotesís "
   ]
  },
  {
   "cell_type": "markdown",
   "metadata": {},
   "source": [
    "Contamos con 1295 registros con 5 parametros cada uno\n",
    "\n",
    "* deph_m = profunidad de la extracción del núcleo de hielo en  metros.\n",
    "* age_gas_calBP.1 = Edad del gas años pasados , contanto el año presente como 1950 que es (Common Era) \n",
    "* co2_ppm =concentración de co2 partes por millon\n",
    "* co2_1s_ppm= sigma mean partes por millon\n",
    "\n",
    "Para dividir los años en eras ocuparemos rangos para clasificar el tiempo , obtendremos el min y el maximo primero"
   ]
  },
  {
   "cell_type": "code",
   "execution_count": 20,
   "metadata": {},
   "outputs": [
    {
     "data": {
      "text/plain": [
       "(350.11, 805668.87)"
      ]
     },
     "execution_count": 20,
     "metadata": {},
     "output_type": "execute_result"
    }
   ],
   "source": [
    "co2_df.age_gas.min(),co2_df.age_gas.max()"
   ]
  },
  {
   "cell_type": "markdown",
   "metadata": {},
   "source": [
    "Para este análisis tomaremos dos periodos de tiempo el Holoceno que es a partir de la Common Era (1950) para atras 11000 años, lo que nos da una fecha aproximada de 9400 años A.C. y el Pleistoceno de aproximadamente el año 1.8M al 9400 A.C en este periodo tendremos más datos por el rango de fechas sin embargo el objetivo aquí es comparar periodos. +\n",
    "\n",
    "+ 350.11 - 9400 Holoceno = H\n",
    "+ 9400 - 805668 Pleistoceno = P "
   ]
  },
  {
   "cell_type": "code",
   "execution_count": 21,
   "metadata": {},
   "outputs": [
    {
     "data": {
      "text/html": [
       "<div>\n",
       "<style scoped>\n",
       "    .dataframe tbody tr th:only-of-type {\n",
       "        vertical-align: middle;\n",
       "    }\n",
       "\n",
       "    .dataframe tbody tr th {\n",
       "        vertical-align: top;\n",
       "    }\n",
       "\n",
       "    .dataframe thead th {\n",
       "        text-align: right;\n",
       "    }\n",
       "</style>\n",
       "<table border=\"1\" class=\"dataframe\">\n",
       "  <thead>\n",
       "    <tr style=\"text-align: right;\">\n",
       "      <th></th>\n",
       "      <th>depth</th>\n",
       "      <th>age_gas</th>\n",
       "      <th>ppm</th>\n",
       "      <th>Sppm</th>\n",
       "      <th>notes</th>\n",
       "    </tr>\n",
       "  </thead>\n",
       "  <tbody>\n",
       "    <tr>\n",
       "      <td>0</td>\n",
       "      <td>102.83</td>\n",
       "      <td>350.11</td>\n",
       "      <td>280.40</td>\n",
       "      <td>1.80</td>\n",
       "      <td>Dome C (0-22 kyr BP)  Monnin et al. (2001+2004...</td>\n",
       "    </tr>\n",
       "    <tr>\n",
       "      <td>1</td>\n",
       "      <td>106.89</td>\n",
       "      <td>486.69</td>\n",
       "      <td>274.90</td>\n",
       "      <td>0.70</td>\n",
       "      <td>Dome C (0-22 kyr BP)  Monnin et al. (2001+2004...</td>\n",
       "    </tr>\n",
       "    <tr>\n",
       "      <td>2</td>\n",
       "      <td>107.20</td>\n",
       "      <td>501.20</td>\n",
       "      <td>277.90</td>\n",
       "      <td>0.70</td>\n",
       "      <td>Dome C (0-22 kyr BP)  Monnin et al. (2001+2004...</td>\n",
       "    </tr>\n",
       "    <tr>\n",
       "      <td>3</td>\n",
       "      <td>110.25</td>\n",
       "      <td>539.65</td>\n",
       "      <td>279.10</td>\n",
       "      <td>1.30</td>\n",
       "      <td>Dome C (0-22 kyr BP)  Monnin et al. (2001+2004...</td>\n",
       "    </tr>\n",
       "    <tr>\n",
       "      <td>4</td>\n",
       "      <td>110.50</td>\n",
       "      <td>539.89</td>\n",
       "      <td>281.90</td>\n",
       "      <td>1.10</td>\n",
       "      <td>Dome C (0-22 kyr BP)  Monnin et al. (2001+2004...</td>\n",
       "    </tr>\n",
       "    <tr>\n",
       "      <td>...</td>\n",
       "      <td>...</td>\n",
       "      <td>...</td>\n",
       "      <td>...</td>\n",
       "      <td>...</td>\n",
       "      <td>...</td>\n",
       "    </tr>\n",
       "    <tr>\n",
       "      <td>1418</td>\n",
       "      <td>3193.41</td>\n",
       "      <td>803925.28</td>\n",
       "      <td>202.92</td>\n",
       "      <td>2.06</td>\n",
       "      <td>EDC (560-806 kyr - corrected for analytical bi...</td>\n",
       "    </tr>\n",
       "    <tr>\n",
       "      <td>1419</td>\n",
       "      <td>3193.75</td>\n",
       "      <td>804009.87</td>\n",
       "      <td>207.50</td>\n",
       "      <td>0.92</td>\n",
       "      <td>EDC (560-806 kyr - corrected for analytical bi...</td>\n",
       "    </tr>\n",
       "    <tr>\n",
       "      <td>1420</td>\n",
       "      <td>3195.79</td>\n",
       "      <td>804522.67</td>\n",
       "      <td>204.86</td>\n",
       "      <td>1.64</td>\n",
       "      <td>EDC (560-806 kyr - corrected for analytical bi...</td>\n",
       "    </tr>\n",
       "    <tr>\n",
       "      <td>1421</td>\n",
       "      <td>3198.21</td>\n",
       "      <td>805132.44</td>\n",
       "      <td>202.23</td>\n",
       "      <td>0.69</td>\n",
       "      <td>EDC (560-806 kyr - corrected for analytical bi...</td>\n",
       "    </tr>\n",
       "    <tr>\n",
       "      <td>1422</td>\n",
       "      <td>3200.34</td>\n",
       "      <td>805668.87</td>\n",
       "      <td>207.29</td>\n",
       "      <td>2.20</td>\n",
       "      <td>EDC (560-806 kyr - corrected for analytical bi...</td>\n",
       "    </tr>\n",
       "  </tbody>\n",
       "</table>\n",
       "<p>1295 rows × 5 columns</p>\n",
       "</div>"
      ],
      "text/plain": [
       "        depth    age_gas     ppm  Sppm  \\\n",
       "0      102.83     350.11  280.40  1.80   \n",
       "1      106.89     486.69  274.90  0.70   \n",
       "2      107.20     501.20  277.90  0.70   \n",
       "3      110.25     539.65  279.10  1.30   \n",
       "4      110.50     539.89  281.90  1.10   \n",
       "...       ...        ...     ...   ...   \n",
       "1418  3193.41  803925.28  202.92  2.06   \n",
       "1419  3193.75  804009.87  207.50  0.92   \n",
       "1420  3195.79  804522.67  204.86  1.64   \n",
       "1421  3198.21  805132.44  202.23  0.69   \n",
       "1422  3200.34  805668.87  207.29  2.20   \n",
       "\n",
       "                                                  notes  \n",
       "0     Dome C (0-22 kyr BP)  Monnin et al. (2001+2004...  \n",
       "1     Dome C (0-22 kyr BP)  Monnin et al. (2001+2004...  \n",
       "2     Dome C (0-22 kyr BP)  Monnin et al. (2001+2004...  \n",
       "3     Dome C (0-22 kyr BP)  Monnin et al. (2001+2004...  \n",
       "4     Dome C (0-22 kyr BP)  Monnin et al. (2001+2004...  \n",
       "...                                                 ...  \n",
       "1418  EDC (560-806 kyr - corrected for analytical bi...  \n",
       "1419  EDC (560-806 kyr - corrected for analytical bi...  \n",
       "1420  EDC (560-806 kyr - corrected for analytical bi...  \n",
       "1421  EDC (560-806 kyr - corrected for analytical bi...  \n",
       "1422  EDC (560-806 kyr - corrected for analytical bi...  \n",
       "\n",
       "[1295 rows x 5 columns]"
      ]
     },
     "execution_count": 21,
     "metadata": {},
     "output_type": "execute_result"
    }
   ],
   "source": [
    "co2=co2_df.sort_values(by='age_gas')\n",
    "co2"
   ]
  },
  {
   "cell_type": "code",
   "execution_count": 22,
   "metadata": {},
   "outputs": [
    {
     "data": {
      "text/html": [
       "<div>\n",
       "<style scoped>\n",
       "    .dataframe tbody tr th:only-of-type {\n",
       "        vertical-align: middle;\n",
       "    }\n",
       "\n",
       "    .dataframe tbody tr th {\n",
       "        vertical-align: top;\n",
       "    }\n",
       "\n",
       "    .dataframe thead th {\n",
       "        text-align: right;\n",
       "    }\n",
       "</style>\n",
       "<table border=\"1\" class=\"dataframe\">\n",
       "  <thead>\n",
       "    <tr style=\"text-align: right;\">\n",
       "      <th></th>\n",
       "      <th>depth</th>\n",
       "      <th>age_gas</th>\n",
       "      <th>ppm</th>\n",
       "      <th>Sppm</th>\n",
       "      <th>notes</th>\n",
       "    </tr>\n",
       "  </thead>\n",
       "  <tbody>\n",
       "    <tr>\n",
       "      <td>0</td>\n",
       "      <td>102.83</td>\n",
       "      <td>350.11</td>\n",
       "      <td>280.40</td>\n",
       "      <td>1.80</td>\n",
       "      <td>Dome C (0-22 kyr BP)  Monnin et al. (2001+2004...</td>\n",
       "    </tr>\n",
       "    <tr>\n",
       "      <td>1</td>\n",
       "      <td>106.89</td>\n",
       "      <td>486.69</td>\n",
       "      <td>274.90</td>\n",
       "      <td>0.70</td>\n",
       "      <td>Dome C (0-22 kyr BP)  Monnin et al. (2001+2004...</td>\n",
       "    </tr>\n",
       "    <tr>\n",
       "      <td>2</td>\n",
       "      <td>107.20</td>\n",
       "      <td>501.20</td>\n",
       "      <td>277.90</td>\n",
       "      <td>0.70</td>\n",
       "      <td>Dome C (0-22 kyr BP)  Monnin et al. (2001+2004...</td>\n",
       "    </tr>\n",
       "    <tr>\n",
       "      <td>3</td>\n",
       "      <td>110.25</td>\n",
       "      <td>539.65</td>\n",
       "      <td>279.10</td>\n",
       "      <td>1.30</td>\n",
       "      <td>Dome C (0-22 kyr BP)  Monnin et al. (2001+2004...</td>\n",
       "    </tr>\n",
       "    <tr>\n",
       "      <td>4</td>\n",
       "      <td>110.50</td>\n",
       "      <td>539.89</td>\n",
       "      <td>281.90</td>\n",
       "      <td>1.10</td>\n",
       "      <td>Dome C (0-22 kyr BP)  Monnin et al. (2001+2004...</td>\n",
       "    </tr>\n",
       "    <tr>\n",
       "      <td>...</td>\n",
       "      <td>...</td>\n",
       "      <td>...</td>\n",
       "      <td>...</td>\n",
       "      <td>...</td>\n",
       "      <td>...</td>\n",
       "    </tr>\n",
       "    <tr>\n",
       "      <td>89</td>\n",
       "      <td>343.72</td>\n",
       "      <td>9143.01</td>\n",
       "      <td>262.00</td>\n",
       "      <td>0.80</td>\n",
       "      <td>Dome C (0-22 kyr BP)  Monnin et al. (2001+2004...</td>\n",
       "    </tr>\n",
       "    <tr>\n",
       "      <td>835</td>\n",
       "      <td>346.50</td>\n",
       "      <td>9274.20</td>\n",
       "      <td>261.57</td>\n",
       "      <td>1.27</td>\n",
       "      <td>EDC (9-22 kyr BP)Lourantou et al. (2010a) (Glo...</td>\n",
       "    </tr>\n",
       "    <tr>\n",
       "      <td>834</td>\n",
       "      <td>346.50</td>\n",
       "      <td>9274.20</td>\n",
       "      <td>256.90</td>\n",
       "      <td>0.63</td>\n",
       "      <td>EDC (9-22 kyr BP)Lourantou et al. (2010a) (Glo...</td>\n",
       "    </tr>\n",
       "    <tr>\n",
       "      <td>90</td>\n",
       "      <td>347.02</td>\n",
       "      <td>9295.31</td>\n",
       "      <td>263.70</td>\n",
       "      <td>1.20</td>\n",
       "      <td>Dome C (0-22 kyr BP)  Monnin et al. (2001+2004...</td>\n",
       "    </tr>\n",
       "    <tr>\n",
       "      <td>91</td>\n",
       "      <td>349.75</td>\n",
       "      <td>9361.12</td>\n",
       "      <td>263.80</td>\n",
       "      <td>0.80</td>\n",
       "      <td>Dome C (0-22 kyr BP)  Monnin et al. (2001+2004...</td>\n",
       "    </tr>\n",
       "  </tbody>\n",
       "</table>\n",
       "<p>94 rows × 5 columns</p>\n",
       "</div>"
      ],
      "text/plain": [
       "      depth  age_gas     ppm  Sppm  \\\n",
       "0    102.83   350.11  280.40  1.80   \n",
       "1    106.89   486.69  274.90  0.70   \n",
       "2    107.20   501.20  277.90  0.70   \n",
       "3    110.25   539.65  279.10  1.30   \n",
       "4    110.50   539.89  281.90  1.10   \n",
       "..      ...      ...     ...   ...   \n",
       "89   343.72  9143.01  262.00  0.80   \n",
       "835  346.50  9274.20  261.57  1.27   \n",
       "834  346.50  9274.20  256.90  0.63   \n",
       "90   347.02  9295.31  263.70  1.20   \n",
       "91   349.75  9361.12  263.80  0.80   \n",
       "\n",
       "                                                 notes  \n",
       "0    Dome C (0-22 kyr BP)  Monnin et al. (2001+2004...  \n",
       "1    Dome C (0-22 kyr BP)  Monnin et al. (2001+2004...  \n",
       "2    Dome C (0-22 kyr BP)  Monnin et al. (2001+2004...  \n",
       "3    Dome C (0-22 kyr BP)  Monnin et al. (2001+2004...  \n",
       "4    Dome C (0-22 kyr BP)  Monnin et al. (2001+2004...  \n",
       "..                                                 ...  \n",
       "89   Dome C (0-22 kyr BP)  Monnin et al. (2001+2004...  \n",
       "835  EDC (9-22 kyr BP)Lourantou et al. (2010a) (Glo...  \n",
       "834  EDC (9-22 kyr BP)Lourantou et al. (2010a) (Glo...  \n",
       "90   Dome C (0-22 kyr BP)  Monnin et al. (2001+2004...  \n",
       "91   Dome C (0-22 kyr BP)  Monnin et al. (2001+2004...  \n",
       "\n",
       "[94 rows x 5 columns]"
      ]
     },
     "execution_count": 22,
     "metadata": {},
     "output_type": "execute_result"
    }
   ],
   "source": [
    "co2[co2['age_gas']<=9400]"
   ]
  },
  {
   "cell_type": "code",
   "execution_count": 23,
   "metadata": {},
   "outputs": [
    {
     "data": {
      "text/html": [
       "<div>\n",
       "<style scoped>\n",
       "    .dataframe tbody tr th:only-of-type {\n",
       "        vertical-align: middle;\n",
       "    }\n",
       "\n",
       "    .dataframe tbody tr th {\n",
       "        vertical-align: top;\n",
       "    }\n",
       "\n",
       "    .dataframe thead th {\n",
       "        text-align: right;\n",
       "    }\n",
       "</style>\n",
       "<table border=\"1\" class=\"dataframe\">\n",
       "  <thead>\n",
       "    <tr style=\"text-align: right;\">\n",
       "      <th></th>\n",
       "      <th>depth</th>\n",
       "      <th>age_gas</th>\n",
       "      <th>ppm</th>\n",
       "      <th>Sppm</th>\n",
       "      <th>notes</th>\n",
       "    </tr>\n",
       "  </thead>\n",
       "  <tbody>\n",
       "    <tr>\n",
       "      <td>92</td>\n",
       "      <td>352.58</td>\n",
       "      <td>9436.70</td>\n",
       "      <td>265.20</td>\n",
       "      <td>0.90</td>\n",
       "      <td>Dome C (0-22 kyr BP)  Monnin et al. (2001+2004...</td>\n",
       "    </tr>\n",
       "    <tr>\n",
       "      <td>836</td>\n",
       "      <td>355.30</td>\n",
       "      <td>9516.19</td>\n",
       "      <td>258.30</td>\n",
       "      <td>0.92</td>\n",
       "      <td>EDC (9-22 kyr BP)Lourantou et al. (2010a) (Glo...</td>\n",
       "    </tr>\n",
       "    <tr>\n",
       "      <td>93</td>\n",
       "      <td>355.82</td>\n",
       "      <td>9518.06</td>\n",
       "      <td>260.60</td>\n",
       "      <td>1.70</td>\n",
       "      <td>Dome C (0-22 kyr BP)  Monnin et al. (2001+2004...</td>\n",
       "    </tr>\n",
       "    <tr>\n",
       "      <td>94</td>\n",
       "      <td>357.47</td>\n",
       "      <td>9524.44</td>\n",
       "      <td>260.90</td>\n",
       "      <td>0.60</td>\n",
       "      <td>Dome C (0-22 kyr BP)  Monnin et al. (2001+2004...</td>\n",
       "    </tr>\n",
       "    <tr>\n",
       "      <td>95</td>\n",
       "      <td>360.20</td>\n",
       "      <td>9555.86</td>\n",
       "      <td>263.00</td>\n",
       "      <td>0.40</td>\n",
       "      <td>Dome C (0-22 kyr BP)  Monnin et al. (2001+2004...</td>\n",
       "    </tr>\n",
       "    <tr>\n",
       "      <td>...</td>\n",
       "      <td>...</td>\n",
       "      <td>...</td>\n",
       "      <td>...</td>\n",
       "      <td>...</td>\n",
       "      <td>...</td>\n",
       "    </tr>\n",
       "    <tr>\n",
       "      <td>1418</td>\n",
       "      <td>3193.41</td>\n",
       "      <td>803925.28</td>\n",
       "      <td>202.92</td>\n",
       "      <td>2.06</td>\n",
       "      <td>EDC (560-806 kyr - corrected for analytical bi...</td>\n",
       "    </tr>\n",
       "    <tr>\n",
       "      <td>1419</td>\n",
       "      <td>3193.75</td>\n",
       "      <td>804009.87</td>\n",
       "      <td>207.50</td>\n",
       "      <td>0.92</td>\n",
       "      <td>EDC (560-806 kyr - corrected for analytical bi...</td>\n",
       "    </tr>\n",
       "    <tr>\n",
       "      <td>1420</td>\n",
       "      <td>3195.79</td>\n",
       "      <td>804522.67</td>\n",
       "      <td>204.86</td>\n",
       "      <td>1.64</td>\n",
       "      <td>EDC (560-806 kyr - corrected for analytical bi...</td>\n",
       "    </tr>\n",
       "    <tr>\n",
       "      <td>1421</td>\n",
       "      <td>3198.21</td>\n",
       "      <td>805132.44</td>\n",
       "      <td>202.23</td>\n",
       "      <td>0.69</td>\n",
       "      <td>EDC (560-806 kyr - corrected for analytical bi...</td>\n",
       "    </tr>\n",
       "    <tr>\n",
       "      <td>1422</td>\n",
       "      <td>3200.34</td>\n",
       "      <td>805668.87</td>\n",
       "      <td>207.29</td>\n",
       "      <td>2.20</td>\n",
       "      <td>EDC (560-806 kyr - corrected for analytical bi...</td>\n",
       "    </tr>\n",
       "  </tbody>\n",
       "</table>\n",
       "<p>1201 rows × 5 columns</p>\n",
       "</div>"
      ],
      "text/plain": [
       "        depth    age_gas     ppm  Sppm  \\\n",
       "92     352.58    9436.70  265.20  0.90   \n",
       "836    355.30    9516.19  258.30  0.92   \n",
       "93     355.82    9518.06  260.60  1.70   \n",
       "94     357.47    9524.44  260.90  0.60   \n",
       "95     360.20    9555.86  263.00  0.40   \n",
       "...       ...        ...     ...   ...   \n",
       "1418  3193.41  803925.28  202.92  2.06   \n",
       "1419  3193.75  804009.87  207.50  0.92   \n",
       "1420  3195.79  804522.67  204.86  1.64   \n",
       "1421  3198.21  805132.44  202.23  0.69   \n",
       "1422  3200.34  805668.87  207.29  2.20   \n",
       "\n",
       "                                                  notes  \n",
       "92    Dome C (0-22 kyr BP)  Monnin et al. (2001+2004...  \n",
       "836   EDC (9-22 kyr BP)Lourantou et al. (2010a) (Glo...  \n",
       "93    Dome C (0-22 kyr BP)  Monnin et al. (2001+2004...  \n",
       "94    Dome C (0-22 kyr BP)  Monnin et al. (2001+2004...  \n",
       "95    Dome C (0-22 kyr BP)  Monnin et al. (2001+2004...  \n",
       "...                                                 ...  \n",
       "1418  EDC (560-806 kyr - corrected for analytical bi...  \n",
       "1419  EDC (560-806 kyr - corrected for analytical bi...  \n",
       "1420  EDC (560-806 kyr - corrected for analytical bi...  \n",
       "1421  EDC (560-806 kyr - corrected for analytical bi...  \n",
       "1422  EDC (560-806 kyr - corrected for analytical bi...  \n",
       "\n",
       "[1201 rows x 5 columns]"
      ]
     },
     "execution_count": 23,
     "metadata": {},
     "output_type": "execute_result"
    }
   ],
   "source": [
    "co2[co2['age_gas']>9400] "
   ]
  },
  {
   "cell_type": "code",
   "execution_count": 24,
   "metadata": {},
   "outputs": [],
   "source": [
    "def classifier(row):\n",
    "    if row[\"age_gas\"] <=9400:\n",
    "        return \"H\"\n",
    "    else:\n",
    "        return \"P\"\n",
    "     \n",
    "co2[\"Period\"] = co2.apply(classifier, axis=1)"
   ]
  },
  {
   "cell_type": "code",
   "execution_count": 25,
   "metadata": {},
   "outputs": [
    {
     "data": {
      "text/html": [
       "<div>\n",
       "<style scoped>\n",
       "    .dataframe tbody tr th:only-of-type {\n",
       "        vertical-align: middle;\n",
       "    }\n",
       "\n",
       "    .dataframe tbody tr th {\n",
       "        vertical-align: top;\n",
       "    }\n",
       "\n",
       "    .dataframe thead th {\n",
       "        text-align: right;\n",
       "    }\n",
       "</style>\n",
       "<table border=\"1\" class=\"dataframe\">\n",
       "  <thead>\n",
       "    <tr style=\"text-align: right;\">\n",
       "      <th></th>\n",
       "      <th>depth</th>\n",
       "      <th>age_gas</th>\n",
       "      <th>ppm</th>\n",
       "      <th>Sppm</th>\n",
       "      <th>notes</th>\n",
       "      <th>Period</th>\n",
       "    </tr>\n",
       "  </thead>\n",
       "  <tbody>\n",
       "    <tr>\n",
       "      <td>0</td>\n",
       "      <td>102.83</td>\n",
       "      <td>350.11</td>\n",
       "      <td>280.40</td>\n",
       "      <td>1.80</td>\n",
       "      <td>Dome C (0-22 kyr BP)  Monnin et al. (2001+2004...</td>\n",
       "      <td>H</td>\n",
       "    </tr>\n",
       "    <tr>\n",
       "      <td>1</td>\n",
       "      <td>106.89</td>\n",
       "      <td>486.69</td>\n",
       "      <td>274.90</td>\n",
       "      <td>0.70</td>\n",
       "      <td>Dome C (0-22 kyr BP)  Monnin et al. (2001+2004...</td>\n",
       "      <td>H</td>\n",
       "    </tr>\n",
       "    <tr>\n",
       "      <td>2</td>\n",
       "      <td>107.20</td>\n",
       "      <td>501.20</td>\n",
       "      <td>277.90</td>\n",
       "      <td>0.70</td>\n",
       "      <td>Dome C (0-22 kyr BP)  Monnin et al. (2001+2004...</td>\n",
       "      <td>H</td>\n",
       "    </tr>\n",
       "    <tr>\n",
       "      <td>3</td>\n",
       "      <td>110.25</td>\n",
       "      <td>539.65</td>\n",
       "      <td>279.10</td>\n",
       "      <td>1.30</td>\n",
       "      <td>Dome C (0-22 kyr BP)  Monnin et al. (2001+2004...</td>\n",
       "      <td>H</td>\n",
       "    </tr>\n",
       "    <tr>\n",
       "      <td>4</td>\n",
       "      <td>110.50</td>\n",
       "      <td>539.89</td>\n",
       "      <td>281.90</td>\n",
       "      <td>1.10</td>\n",
       "      <td>Dome C (0-22 kyr BP)  Monnin et al. (2001+2004...</td>\n",
       "      <td>H</td>\n",
       "    </tr>\n",
       "    <tr>\n",
       "      <td>...</td>\n",
       "      <td>...</td>\n",
       "      <td>...</td>\n",
       "      <td>...</td>\n",
       "      <td>...</td>\n",
       "      <td>...</td>\n",
       "      <td>...</td>\n",
       "    </tr>\n",
       "    <tr>\n",
       "      <td>1417</td>\n",
       "      <td>3192.73</td>\n",
       "      <td>803709.25</td>\n",
       "      <td>202.65</td>\n",
       "      <td>1.04</td>\n",
       "      <td>EDC (560-806 kyr - corrected for analytical bi...</td>\n",
       "      <td>P</td>\n",
       "    </tr>\n",
       "    <tr>\n",
       "      <td>1418</td>\n",
       "      <td>3193.41</td>\n",
       "      <td>803925.28</td>\n",
       "      <td>202.92</td>\n",
       "      <td>2.06</td>\n",
       "      <td>EDC (560-806 kyr - corrected for analytical bi...</td>\n",
       "      <td>P</td>\n",
       "    </tr>\n",
       "    <tr>\n",
       "      <td>1419</td>\n",
       "      <td>3193.75</td>\n",
       "      <td>804009.87</td>\n",
       "      <td>207.50</td>\n",
       "      <td>0.92</td>\n",
       "      <td>EDC (560-806 kyr - corrected for analytical bi...</td>\n",
       "      <td>P</td>\n",
       "    </tr>\n",
       "    <tr>\n",
       "      <td>1420</td>\n",
       "      <td>3195.79</td>\n",
       "      <td>804522.67</td>\n",
       "      <td>204.86</td>\n",
       "      <td>1.64</td>\n",
       "      <td>EDC (560-806 kyr - corrected for analytical bi...</td>\n",
       "      <td>P</td>\n",
       "    </tr>\n",
       "    <tr>\n",
       "      <td>1421</td>\n",
       "      <td>3198.21</td>\n",
       "      <td>805132.44</td>\n",
       "      <td>202.23</td>\n",
       "      <td>0.69</td>\n",
       "      <td>EDC (560-806 kyr - corrected for analytical bi...</td>\n",
       "      <td>P</td>\n",
       "    </tr>\n",
       "  </tbody>\n",
       "</table>\n",
       "<p>1294 rows × 6 columns</p>\n",
       "</div>"
      ],
      "text/plain": [
       "        depth    age_gas     ppm  Sppm  \\\n",
       "0      102.83     350.11  280.40  1.80   \n",
       "1      106.89     486.69  274.90  0.70   \n",
       "2      107.20     501.20  277.90  0.70   \n",
       "3      110.25     539.65  279.10  1.30   \n",
       "4      110.50     539.89  281.90  1.10   \n",
       "...       ...        ...     ...   ...   \n",
       "1417  3192.73  803709.25  202.65  1.04   \n",
       "1418  3193.41  803925.28  202.92  2.06   \n",
       "1419  3193.75  804009.87  207.50  0.92   \n",
       "1420  3195.79  804522.67  204.86  1.64   \n",
       "1421  3198.21  805132.44  202.23  0.69   \n",
       "\n",
       "                                                  notes Period  \n",
       "0     Dome C (0-22 kyr BP)  Monnin et al. (2001+2004...      H  \n",
       "1     Dome C (0-22 kyr BP)  Monnin et al. (2001+2004...      H  \n",
       "2     Dome C (0-22 kyr BP)  Monnin et al. (2001+2004...      H  \n",
       "3     Dome C (0-22 kyr BP)  Monnin et al. (2001+2004...      H  \n",
       "4     Dome C (0-22 kyr BP)  Monnin et al. (2001+2004...      H  \n",
       "...                                                 ...    ...  \n",
       "1417  EDC (560-806 kyr - corrected for analytical bi...      P  \n",
       "1418  EDC (560-806 kyr - corrected for analytical bi...      P  \n",
       "1419  EDC (560-806 kyr - corrected for analytical bi...      P  \n",
       "1420  EDC (560-806 kyr - corrected for analytical bi...      P  \n",
       "1421  EDC (560-806 kyr - corrected for analytical bi...      P  \n",
       "\n",
       "[1294 rows x 6 columns]"
      ]
     },
     "execution_count": 25,
     "metadata": {},
     "output_type": "execute_result"
    }
   ],
   "source": [
    "co2.head(-1) "
   ]
  },
  {
   "cell_type": "markdown",
   "metadata": {},
   "source": [
    "* Ho: Las medias de concentración de co2 de los dos periodos son iguales\n",
    "* Ha: Las medias de concentración de co2 de los dos periodos son diferentes"
   ]
  },
  {
   "cell_type": "code",
   "execution_count": 26,
   "metadata": {},
   "outputs": [
    {
     "data": {
      "text/plain": [
       "<matplotlib.axes._subplots.AxesSubplot at 0x2844c4a4608>"
      ]
     },
     "execution_count": 26,
     "metadata": {},
     "output_type": "execute_result"
    },
    {
     "data": {
      "image/png": "[encoded data removed]",
      "text/plain": [
       "<Figure size 432x288 with 1 Axes>"
      ]
     },
     "metadata": {
      "needs_background": "light"
     },
     "output_type": "display_data"
    }
   ],
   "source": [
    "#PPM CO2\n",
    "co2.ppm.plot.hist()"
   ]
  },
  {
   "cell_type": "code",
   "execution_count": 27,
   "metadata": {},
   "outputs": [
    {
     "data": {
      "text/plain": [
       "<matplotlib.axes._subplots.AxesSubplot at 0x2844c815608>"
      ]
     },
     "execution_count": 27,
     "metadata": {},
     "output_type": "execute_result"
    },
    {
     "data": {
      "image/png": "[encoded data removed]",
      "text/plain": [
       "<Figure size 432x288 with 1 Axes>"
      ]
     },
     "metadata": {
      "needs_background": "light"
     },
     "output_type": "display_data"
    }
   ],
   "source": [
    "# Sigma ppm co2\n",
    "co2.Sppm.plot.hist() "
   ]
  },
  {
   "cell_type": "code",
   "execution_count": 28,
   "metadata": {},
   "outputs": [
    {
     "data": {
      "text/plain": [
       "<matplotlib.axes._subplots.AxesSubplot at 0x2844c8d2fc8>"
      ]
     },
     "execution_count": 28,
     "metadata": {},
     "output_type": "execute_result"
    },
    {
     "data": {
      "image/png": "[encoded data removed]",
      "text/plain": [
       "<Figure size 432x288 with 1 Axes>"
      ]
     },
     "metadata": {
      "needs_background": "light"
     },
     "output_type": "display_data"
    }
   ],
   "source": [
    "# Depth \n",
    "co2.depth.plot.hist()"
   ]
  },
  {
   "cell_type": "code",
   "execution_count": 29,
   "metadata": {},
   "outputs": [
    {
     "name": "stdout",
     "output_type": "stream",
     "text": [
      "PPM 228.17326640926615 26.369558386234115\n",
      "Sigma 2431.8076293436293 1082.4013349343488\n",
      "Age 491151.15031660156 281261.1922847676\n"
     ]
    }
   ],
   "source": [
    "#Medias\n",
    "mu_ppm= co2.ppm.mean()\n",
    "sigma_ppm= co2.ppm.std(ddof=0)\n",
    "\n",
    "mu_dp=co2.depth.mean()\n",
    "sigma_dp=co2.depth.std(ddof=0)\n",
    "\n",
    "\n",
    "mu_age=co2.age_gas.mean()\n",
    "sigma_age=co2.age_gas.std(ddof=0)\n",
    "\n",
    "                          \n",
    "print('PPM',mu_ppm,sigma_ppm)\n",
    "print('Sigma',mu_dp,sigma_dp)\n",
    "print('Age',mu_age,sigma_age)"
   ]
  },
  {
   "cell_type": "code",
   "execution_count": 30,
   "metadata": {},
   "outputs": [
    {
     "data": {
      "text/plain": [
       "depth       227.263936\n",
       "age_gas    4803.534149\n",
       "ppm         269.394362\n",
       "Sppm          0.915957\n",
       "dtype: float64"
      ]
     },
     "execution_count": 30,
     "metadata": {},
     "output_type": "execute_result"
    }
   ],
   "source": [
    "#Holoceno\n",
    "Holoceno=co2[co2['Period']=='H']\n",
    "Holoceno.mean()"
   ]
  },
  {
   "cell_type": "code",
   "execution_count": 31,
   "metadata": {},
   "outputs": [
    {
     "data": {
      "text/plain": [
       "depth        2604.353097\n",
       "age_gas    529216.658993\n",
       "ppm           224.946969\n",
       "Sppm            1.186513\n",
       "dtype: float64"
      ]
     },
     "execution_count": 31,
     "metadata": {},
     "output_type": "execute_result"
    }
   ],
   "source": [
    "#Pleistoceno\n",
    "Pleistoceno=co2[co2['Period']=='P']\n",
    "Pleistoceno.mean()"
   ]
  },
  {
   "cell_type": "code",
   "execution_count": 32,
   "metadata": {},
   "outputs": [
    {
     "data": {
      "text/plain": [
       "(41.88631071020594, 1.6010463222722315e-124)"
      ]
     },
     "execution_count": 32,
     "metadata": {},
     "output_type": "execute_result"
    }
   ],
   "source": [
    "#T test Holoceno vs Pleistoceno\n",
    "\n",
    "t, p = stats.ttest_ind(Holoceno.ppm,Pleistoceno.ppm,equal_var = False)\n",
    "t,p"
   ]
  },
  {
   "cell_type": "markdown",
   "metadata": {},
   "source": [
    "En este caso la p es ucho menor a un alfa de .5 por lo que aceptamos la ha lo que quiere decir que las medias son diferentes entre los dos periodos de tiempo, mas adelante lo compararemos en una grafica"
   ]
  },
  {
   "cell_type": "code",
   "execution_count": 33,
   "metadata": {},
   "outputs": [
    {
     "data": {
      "image/png": "[encoded data removed]",
      "text/plain": [
       "<Figure size 432x288 with 1 Axes>"
      ]
     },
     "metadata": {
      "needs_background": "light"
     },
     "output_type": "display_data"
    }
   ],
   "source": [
    "def generate_means(data):\n",
    "    bs_means = []\n",
    "    for i in range(1000):\n",
    "        samples = np.random.choice(data, 100, replace=True)\n",
    "        bs_means.append(samples.mean())\n",
    "    return bs_means\n",
    "\n",
    "medias_H = generate_means(Holoceno.ppm)\n",
    "medias_P = generate_means(Pleistoceno.ppm)\n",
    "\n",
    "sns.distplot(medias_H, hist=True, kde=True,kde_kws={ \"label\": \"Holoceno\"})\n",
    "sns.distplot(medias_P, hist=True, kde=True, color='red',kde_kws={ \"label\": \"Pleistoceno\"})\n",
    "plt.show()"
   ]
  },
  {
   "cell_type": "code",
   "execution_count": 34,
   "metadata": {},
   "outputs": [],
   "source": [
    "#z,pval=proportion(count=Holoceno.ppm,nobs=Pleistoceno.ppm, value = co2.ppm,alternative=\"two-sided\")"
   ]
  },
  {
   "cell_type": "markdown",
   "metadata": {},
   "source": [
    "## Correlación y Regresión lineal"
   ]
  },
  {
   "cell_type": "markdown",
   "metadata": {},
   "source": [
    "Empezaremos observando la relación entre produndiad y edad del gas, y de igual manera la correlación entre concentración del gas y la edad del gas"
   ]
  },
  {
   "cell_type": "code",
   "execution_count": 35,
   "metadata": {},
   "outputs": [
    {
     "data": {
      "text/plain": [
       "<matplotlib.axes._subplots.AxesSubplot at 0x2844c8a8e08>"
      ]
     },
     "execution_count": 35,
     "metadata": {},
     "output_type": "execute_result"
    },
    {
     "data": {
      "image/png": "[encoded data removed]",
      "text/plain": [
       "<Figure size 432x288 with 1 Axes>"
      ]
     },
     "metadata": {
      "needs_background": "light"
     },
     "output_type": "display_data"
    }
   ],
   "source": [
    "co2.plot.scatter(x='ppm',y='depth')"
   ]
  },
  {
   "cell_type": "code",
   "execution_count": 37,
   "metadata": {},
   "outputs": [
    {
     "data": {
      "text/plain": [
       "<matplotlib.axes._subplots.AxesSubplot at 0x2844cbb0408>"
      ]
     },
     "execution_count": 37,
     "metadata": {},
     "output_type": "execute_result"
    },
    {
     "data": {
      "image/png": "[encoded data removed]",
      "text/plain": [
       "<Figure size 432x288 with 1 Axes>"
      ]
     },
     "metadata": {
      "needs_background": "light"
     },
     "output_type": "display_data"
    }
   ],
   "source": [
    "co2.plot.scatter(x='age_gas',y='ppm')"
   ]
  },
  {
   "cell_type": "code",
   "execution_count": 38,
   "metadata": {},
   "outputs": [
    {
     "data": {
      "text/plain": [
       "<matplotlib.axes._subplots.AxesSubplot at 0x2844cc92dc8>"
      ]
     },
     "execution_count": 38,
     "metadata": {},
     "output_type": "execute_result"
    },
    {
     "data": {
      "image/png": "[encoded data removed]",
      "text/plain": [
       "<Figure size 432x288 with 1 Axes>"
      ]
     },
     "metadata": {
      "needs_background": "light"
     },
     "output_type": "display_data"
    }
   ],
   "source": [
    "co2.plot.scatter(x='age_gas',y='depth')"
   ]
  },
  {
   "cell_type": "markdown",
   "metadata": {},
   "source": [
    "Nos interesa saber si la edad del gas tiene que ver con la concentracion del gas, entre mas edad del gas , deberia tener menos concentración de CO2"
   ]
  },
  {
   "cell_type": "code",
   "execution_count": 39,
   "metadata": {},
   "outputs": [
    {
     "name": "stdout",
     "output_type": "stream",
     "text": [
      "Pendiente:  -3.385123169046551e-05\n",
      "Intersección:  244.79933779367235\n",
      "R_value:  -0.3610617078266496\n",
      "P_value:  3.693718181008132e-41\n",
      "Error estandar:  2.431432105327348e-06\n"
     ]
    }
   ],
   "source": [
    "pendiente, intercept,r_value,p_value,std_err=linregress(co2.age_gas,co2.ppm)\n",
    "\n",
    "print('Pendiente: ' , pendiente)\n",
    "print('Intersección: ' , intercept)\n",
    "print('R_value: ' , r_value)\n",
    "print('P_value: ' , p_value)\n",
    "print('Error estandar: ' ,std_err)"
   ]
  },
  {
   "cell_type": "markdown",
   "metadata": {},
   "source": [
    "En este analisis de  ccorrelación , podemos ver que no hay relación entre la edad del gas con la concentración de este mismo es decir, no ha ido aumentando en base a los años , lo que nos inidica que puede ser algún tipo de estacionalidad , sin embargo , eso se comprobara en el analisis de series de tiempo"
   ]
  },
  {
   "cell_type": "code",
   "execution_count": 40,
   "metadata": {},
   "outputs": [
    {
     "name": "stderr",
     "output_type": "stream",
     "text": [
      "D:\\Data-Ironhack\\Apps\\ANACONDA\\lib\\site-packages\\numpy\\core\\fromnumeric.py:2389: FutureWarning: Method .ptp is deprecated and will be removed in a future version. Use numpy.ptp instead.\n",
      "  return ptp(axis=axis, out=out, **kwargs)\n"
     ]
    }
   ],
   "source": [
    "X=sm.add_constant(co2.age_gas)\n",
    "Y=co2.ppm\n",
    "modelo=sm.OLS(Y,X).fit()"
   ]
  },
  {
   "cell_type": "code",
   "execution_count": 41,
   "metadata": {},
   "outputs": [],
   "source": [
    "predicciones=modelo.predict(X)"
   ]
  },
  {
   "cell_type": "code",
   "execution_count": 42,
   "metadata": {},
   "outputs": [
    {
     "data": {
      "text/html": [
       "<table class=\"simpletable\">\n",
       "<caption>OLS Regression Results</caption>\n",
       "<tr>\n",
       "  <th>Dep. Variable:</th>    <td>      const    age_gas\n",
       "0       1.0     350.11\n",
       "1       1.0     486.69\n",
       "2       1.0     501.20\n",
       "3       1.0     539.65\n",
       "4       1.0     539.89\n",
       "...     ...        ...\n",
       "1418    1.0  803925.28\n",
       "1419    1.0  804009.87\n",
       "1420    1.0  804522.67\n",
       "1421    1.0  805132.44\n",
       "1422    1.0  805668.87\n",
       "\n",
       "[1295 rows x 2 columns]</td> <th>  R-squared:         </th> <td>   0.130</td> \n",
       "</tr>\n",
       "<tr>\n",
       "  <th>Model:</th>                                                                                                                                                                 <td>OLS</td>                                                                                                                                                     <th>  Adj. R-squared:    </th> <td>   0.130</td> \n",
       "</tr>\n",
       "<tr>\n",
       "  <th>Method:</th>                                                                                                                                                           <td>Least Squares</td>                                                                                                                                                <th>  F-statistic:       </th> <td>   193.8</td> \n",
       "</tr>\n",
       "<tr>\n",
       "  <th>Date:</th>                                                                                                                                                           <td>Mon, 13 Jul 2020</td>                                                                                                                                               <th>  Prob (F-statistic):</th> <td>3.69e-41</td> \n",
       "</tr>\n",
       "<tr>\n",
       "  <th>Time:</th>                                                                                                                                                               <td>18:01:00</td>                                                                                                                                                   <th>  Log-Likelihood:    </th> <td> -5984.6</td> \n",
       "</tr>\n",
       "<tr>\n",
       "  <th>No. Observations:</th>                                                                                                                                                    <td>  1295</td>                                                                                                                                                    <th>  AIC:               </th> <td>1.197e+04</td>\n",
       "</tr>\n",
       "<tr>\n",
       "  <th>Df Residuals:</th>                                                                                                                                                        <td>  1293</td>                                                                                                                                                    <th>  BIC:               </th> <td>1.198e+04</td>\n",
       "</tr>\n",
       "<tr>\n",
       "  <th>Df Model:</th>                                                                                                                                                            <td>     1</td>                                                                                                                                                    <th>                     </th>     <td> </td>    \n",
       "</tr>\n",
       "<tr>\n",
       "  <th>Covariance Type:</th>                                                                                                                                                    <td>nonrobust</td>                                                                                                                                                  <th>                     </th>     <td> </td>    \n",
       "</tr>\n",
       "</table>\n",
       "<table class=\"simpletable\">\n",
       "<tr>\n",
       "     <td></td>        <th>coef</th>     <th>std err</th>      <th>t</th>      <th>P>|t|</th>  <th>[0.025</th>    <th>0.975]</th>  \n",
       "</tr>\n",
       "<tr>\n",
       "  <th>const</th>   <td>  244.7993</td> <td>    1.376</td> <td>  177.887</td> <td> 0.000</td> <td>  242.100</td> <td>  247.499</td>\n",
       "</tr>\n",
       "<tr>\n",
       "  <th>age_gas</th> <td>-3.385e-05</td> <td> 2.43e-06</td> <td>  -13.922</td> <td> 0.000</td> <td>-3.86e-05</td> <td>-2.91e-05</td>\n",
       "</tr>\n",
       "</table>\n",
       "<table class=\"simpletable\">\n",
       "<tr>\n",
       "  <th>Omnibus:</th>       <td>88.974</td> <th>  Durbin-Watson:     </th> <td>   0.050</td>\n",
       "</tr>\n",
       "<tr>\n",
       "  <th>Prob(Omnibus):</th> <td> 0.000</td> <th>  Jarque-Bera (JB):  </th> <td>  67.137</td>\n",
       "</tr>\n",
       "<tr>\n",
       "  <th>Skew:</th>          <td>-0.461</td> <th>  Prob(JB):          </th> <td>2.64e-15</td>\n",
       "</tr>\n",
       "<tr>\n",
       "  <th>Kurtosis:</th>      <td> 2.371</td> <th>  Cond. No.          </th> <td>1.14e+06</td>\n",
       "</tr>\n",
       "</table><br/><br/>Warnings:<br/>[1] Standard Errors assume that the covariance matrix of the errors is correctly specified.<br/>[2] The condition number is large, 1.14e+06. This might indicate that there are<br/>strong multicollinearity or other numerical problems."
      ],
      "text/plain": [
       "<class 'statsmodels.iolib.summary.Summary'>\n",
       "\"\"\"\n",
       "                                                                                                                                                                         OLS Regression Results                                                                                                                                                                         \n",
       "========================================================================================================================================================================================================================================================================================================================================================================\n",
       "Dep. Variable:           const    age_gas\n",
       "0       1.0     350.11\n",
       "1       1.0     486.69\n",
       "2       1.0     501.20\n",
       "3       1.0     539.65\n",
       "4       1.0     539.89\n",
       "...     ...        ...\n",
       "1418    1.0  803925.28\n",
       "1419    1.0  804009.87\n",
       "1420    1.0  804522.67\n",
       "1421    1.0  805132.44\n",
       "1422    1.0  805668.87\n",
       "\n",
       "[1295 rows x 2 columns]   R-squared:                       0.130\n",
       "Model:                                                                                                                                                                                                                                                                                                                      OLS   Adj. R-squared:                  0.130\n",
       "Method:                                                                                                                                                                                                                                                                                                           Least Squares   F-statistic:                     193.8\n",
       "Date:                                                                                                                                                                                                                                                                                                          Mon, 13 Jul 2020   Prob (F-statistic):           3.69e-41\n",
       "Time:                                                                                                                                                                                                                                                                                                                  18:01:00   Log-Likelihood:                -5984.6\n",
       "No. Observations:                                                                                                                                                                                                                                                                                                          1295   AIC:                         1.197e+04\n",
       "Df Residuals:                                                                                                                                                                                                                                                                                                              1293   BIC:                         1.198e+04\n",
       "Df Model:                                                                                                                                                                                                                                                                                                                     1                                         \n",
       "Covariance Type:                                                                                                                                                                                                                                                                                                      nonrobust                                         \n",
       "==============================================================================\n",
       "                 coef    std err          t      P>|t|      [0.025      0.975]\n",
       "------------------------------------------------------------------------------\n",
       "const        244.7993      1.376    177.887      0.000     242.100     247.499\n",
       "age_gas    -3.385e-05   2.43e-06    -13.922      0.000   -3.86e-05   -2.91e-05\n",
       "==============================================================================\n",
       "Omnibus:                       88.974   Durbin-Watson:                   0.050\n",
       "Prob(Omnibus):                  0.000   Jarque-Bera (JB):               67.137\n",
       "Skew:                          -0.461   Prob(JB):                     2.64e-15\n",
       "Kurtosis:                       2.371   Cond. No.                     1.14e+06\n",
       "==============================================================================\n",
       "\n",
       "Warnings:\n",
       "[1] Standard Errors assume that the covariance matrix of the errors is correctly specified.\n",
       "[2] The condition number is large, 1.14e+06. This might indicate that there are\n",
       "strong multicollinearity or other numerical problems.\n",
       "\"\"\""
      ]
     },
     "execution_count": 42,
     "metadata": {},
     "output_type": "execute_result"
    }
   ],
   "source": [
    "modelo_impreso=modelo.summary(X)\n",
    "modelo_impreso"
   ]
  },
  {
   "cell_type": "code",
   "execution_count": 43,
   "metadata": {},
   "outputs": [],
   "source": [
    "co2['ppm_predict']=predicciones"
   ]
  },
  {
   "cell_type": "code",
   "execution_count": 44,
   "metadata": {},
   "outputs": [
    {
     "data": {
      "text/html": [
       "<div>\n",
       "<style scoped>\n",
       "    .dataframe tbody tr th:only-of-type {\n",
       "        vertical-align: middle;\n",
       "    }\n",
       "\n",
       "    .dataframe tbody tr th {\n",
       "        vertical-align: top;\n",
       "    }\n",
       "\n",
       "    .dataframe thead th {\n",
       "        text-align: right;\n",
       "    }\n",
       "</style>\n",
       "<table border=\"1\" class=\"dataframe\">\n",
       "  <thead>\n",
       "    <tr style=\"text-align: right;\">\n",
       "      <th></th>\n",
       "      <th>depth</th>\n",
       "      <th>age_gas</th>\n",
       "      <th>ppm</th>\n",
       "      <th>Sppm</th>\n",
       "      <th>notes</th>\n",
       "      <th>Period</th>\n",
       "      <th>ppm_predict</th>\n",
       "    </tr>\n",
       "  </thead>\n",
       "  <tbody>\n",
       "    <tr>\n",
       "      <td>0</td>\n",
       "      <td>102.83</td>\n",
       "      <td>350.11</td>\n",
       "      <td>280.40</td>\n",
       "      <td>1.80</td>\n",
       "      <td>Dome C (0-22 kyr BP)  Monnin et al. (2001+2004...</td>\n",
       "      <td>H</td>\n",
       "      <td>244.787486</td>\n",
       "    </tr>\n",
       "    <tr>\n",
       "      <td>1</td>\n",
       "      <td>106.89</td>\n",
       "      <td>486.69</td>\n",
       "      <td>274.90</td>\n",
       "      <td>0.70</td>\n",
       "      <td>Dome C (0-22 kyr BP)  Monnin et al. (2001+2004...</td>\n",
       "      <td>H</td>\n",
       "      <td>244.782863</td>\n",
       "    </tr>\n",
       "    <tr>\n",
       "      <td>2</td>\n",
       "      <td>107.20</td>\n",
       "      <td>501.20</td>\n",
       "      <td>277.90</td>\n",
       "      <td>0.70</td>\n",
       "      <td>Dome C (0-22 kyr BP)  Monnin et al. (2001+2004...</td>\n",
       "      <td>H</td>\n",
       "      <td>244.782372</td>\n",
       "    </tr>\n",
       "    <tr>\n",
       "      <td>3</td>\n",
       "      <td>110.25</td>\n",
       "      <td>539.65</td>\n",
       "      <td>279.10</td>\n",
       "      <td>1.30</td>\n",
       "      <td>Dome C (0-22 kyr BP)  Monnin et al. (2001+2004...</td>\n",
       "      <td>H</td>\n",
       "      <td>244.781070</td>\n",
       "    </tr>\n",
       "    <tr>\n",
       "      <td>4</td>\n",
       "      <td>110.50</td>\n",
       "      <td>539.89</td>\n",
       "      <td>281.90</td>\n",
       "      <td>1.10</td>\n",
       "      <td>Dome C (0-22 kyr BP)  Monnin et al. (2001+2004...</td>\n",
       "      <td>H</td>\n",
       "      <td>244.781062</td>\n",
       "    </tr>\n",
       "    <tr>\n",
       "      <td>...</td>\n",
       "      <td>...</td>\n",
       "      <td>...</td>\n",
       "      <td>...</td>\n",
       "      <td>...</td>\n",
       "      <td>...</td>\n",
       "      <td>...</td>\n",
       "      <td>...</td>\n",
       "    </tr>\n",
       "    <tr>\n",
       "      <td>1418</td>\n",
       "      <td>3193.41</td>\n",
       "      <td>803925.28</td>\n",
       "      <td>202.92</td>\n",
       "      <td>2.06</td>\n",
       "      <td>EDC (560-806 kyr - corrected for analytical bi...</td>\n",
       "      <td>P</td>\n",
       "      <td>217.585477</td>\n",
       "    </tr>\n",
       "    <tr>\n",
       "      <td>1419</td>\n",
       "      <td>3193.75</td>\n",
       "      <td>804009.87</td>\n",
       "      <td>207.50</td>\n",
       "      <td>0.92</td>\n",
       "      <td>EDC (560-806 kyr - corrected for analytical bi...</td>\n",
       "      <td>P</td>\n",
       "      <td>217.582613</td>\n",
       "    </tr>\n",
       "    <tr>\n",
       "      <td>1420</td>\n",
       "      <td>3195.79</td>\n",
       "      <td>804522.67</td>\n",
       "      <td>204.86</td>\n",
       "      <td>1.64</td>\n",
       "      <td>EDC (560-806 kyr - corrected for analytical bi...</td>\n",
       "      <td>P</td>\n",
       "      <td>217.565254</td>\n",
       "    </tr>\n",
       "    <tr>\n",
       "      <td>1421</td>\n",
       "      <td>3198.21</td>\n",
       "      <td>805132.44</td>\n",
       "      <td>202.23</td>\n",
       "      <td>0.69</td>\n",
       "      <td>EDC (560-806 kyr - corrected for analytical bi...</td>\n",
       "      <td>P</td>\n",
       "      <td>217.544613</td>\n",
       "    </tr>\n",
       "    <tr>\n",
       "      <td>1422</td>\n",
       "      <td>3200.34</td>\n",
       "      <td>805668.87</td>\n",
       "      <td>207.29</td>\n",
       "      <td>2.20</td>\n",
       "      <td>EDC (560-806 kyr - corrected for analytical bi...</td>\n",
       "      <td>P</td>\n",
       "      <td>217.526454</td>\n",
       "    </tr>\n",
       "  </tbody>\n",
       "</table>\n",
       "<p>1295 rows × 7 columns</p>\n",
       "</div>"
      ],
      "text/plain": [
       "        depth    age_gas     ppm  Sppm  \\\n",
       "0      102.83     350.11  280.40  1.80   \n",
       "1      106.89     486.69  274.90  0.70   \n",
       "2      107.20     501.20  277.90  0.70   \n",
       "3      110.25     539.65  279.10  1.30   \n",
       "4      110.50     539.89  281.90  1.10   \n",
       "...       ...        ...     ...   ...   \n",
       "1418  3193.41  803925.28  202.92  2.06   \n",
       "1419  3193.75  804009.87  207.50  0.92   \n",
       "1420  3195.79  804522.67  204.86  1.64   \n",
       "1421  3198.21  805132.44  202.23  0.69   \n",
       "1422  3200.34  805668.87  207.29  2.20   \n",
       "\n",
       "                                                  notes Period  ppm_predict  \n",
       "0     Dome C (0-22 kyr BP)  Monnin et al. (2001+2004...      H   244.787486  \n",
       "1     Dome C (0-22 kyr BP)  Monnin et al. (2001+2004...      H   244.782863  \n",
       "2     Dome C (0-22 kyr BP)  Monnin et al. (2001+2004...      H   244.782372  \n",
       "3     Dome C (0-22 kyr BP)  Monnin et al. (2001+2004...      H   244.781070  \n",
       "4     Dome C (0-22 kyr BP)  Monnin et al. (2001+2004...      H   244.781062  \n",
       "...                                                 ...    ...          ...  \n",
       "1418  EDC (560-806 kyr - corrected for analytical bi...      P   217.585477  \n",
       "1419  EDC (560-806 kyr - corrected for analytical bi...      P   217.582613  \n",
       "1420  EDC (560-806 kyr - corrected for analytical bi...      P   217.565254  \n",
       "1421  EDC (560-806 kyr - corrected for analytical bi...      P   217.544613  \n",
       "1422  EDC (560-806 kyr - corrected for analytical bi...      P   217.526454  \n",
       "\n",
       "[1295 rows x 7 columns]"
      ]
     },
     "execution_count": 44,
     "metadata": {},
     "output_type": "execute_result"
    }
   ],
   "source": [
    "co2 "
   ]
  },
  {
   "cell_type": "code",
   "execution_count": 45,
   "metadata": {},
   "outputs": [
    {
     "data": {
      "text/plain": [
       "<matplotlib.axes._subplots.AxesSubplot at 0x2844d17f0c8>"
      ]
     },
     "execution_count": 45,
     "metadata": {},
     "output_type": "execute_result"
    },
    {
     "data": {
      "image/png": "[encoded data removed]",
      "text/plain": [
       "<Figure size 432x288 with 1 Axes>"
      ]
     },
     "metadata": {
      "needs_background": "light"
     },
     "output_type": "display_data"
    }
   ],
   "source": [
    "co2.plot.scatter(x='age_gas',y='ppm_predict')"
   ]
  },
  {
   "cell_type": "markdown",
   "metadata": {},
   "source": [
    "## Series de tiempo"
   ]
  },
  {
   "cell_type": "code",
   "execution_count": 46,
   "metadata": {},
   "outputs": [],
   "source": [
    "co2_time=pd.DataFrame(co2.groupby(['age_gas'], as_index=False)['ppm'].mean())"
   ]
  },
  {
   "cell_type": "code",
   "execution_count": 47,
   "metadata": {},
   "outputs": [
    {
     "data": {
      "text/html": [
       "<div>\n",
       "<style scoped>\n",
       "    .dataframe tbody tr th:only-of-type {\n",
       "        vertical-align: middle;\n",
       "    }\n",
       "\n",
       "    .dataframe tbody tr th {\n",
       "        vertical-align: top;\n",
       "    }\n",
       "\n",
       "    .dataframe thead th {\n",
       "        text-align: right;\n",
       "    }\n",
       "</style>\n",
       "<table border=\"1\" class=\"dataframe\">\n",
       "  <thead>\n",
       "    <tr style=\"text-align: right;\">\n",
       "      <th></th>\n",
       "      <th>age_gas</th>\n",
       "      <th>ppm</th>\n",
       "    </tr>\n",
       "  </thead>\n",
       "  <tbody>\n",
       "    <tr>\n",
       "      <td>1256</td>\n",
       "      <td>805668.87</td>\n",
       "      <td>207.29</td>\n",
       "    </tr>\n",
       "    <tr>\n",
       "      <td>1255</td>\n",
       "      <td>805132.44</td>\n",
       "      <td>202.23</td>\n",
       "    </tr>\n",
       "    <tr>\n",
       "      <td>1254</td>\n",
       "      <td>804522.67</td>\n",
       "      <td>204.86</td>\n",
       "    </tr>\n",
       "    <tr>\n",
       "      <td>1253</td>\n",
       "      <td>804009.87</td>\n",
       "      <td>207.50</td>\n",
       "    </tr>\n",
       "    <tr>\n",
       "      <td>1252</td>\n",
       "      <td>803925.28</td>\n",
       "      <td>202.92</td>\n",
       "    </tr>\n",
       "    <tr>\n",
       "      <td>...</td>\n",
       "      <td>...</td>\n",
       "      <td>...</td>\n",
       "    </tr>\n",
       "    <tr>\n",
       "      <td>4</td>\n",
       "      <td>539.89</td>\n",
       "      <td>281.90</td>\n",
       "    </tr>\n",
       "    <tr>\n",
       "      <td>3</td>\n",
       "      <td>539.65</td>\n",
       "      <td>279.10</td>\n",
       "    </tr>\n",
       "    <tr>\n",
       "      <td>2</td>\n",
       "      <td>501.20</td>\n",
       "      <td>277.90</td>\n",
       "    </tr>\n",
       "    <tr>\n",
       "      <td>1</td>\n",
       "      <td>486.69</td>\n",
       "      <td>274.90</td>\n",
       "    </tr>\n",
       "    <tr>\n",
       "      <td>0</td>\n",
       "      <td>350.11</td>\n",
       "      <td>280.40</td>\n",
       "    </tr>\n",
       "  </tbody>\n",
       "</table>\n",
       "<p>1257 rows × 2 columns</p>\n",
       "</div>"
      ],
      "text/plain": [
       "        age_gas     ppm\n",
       "1256  805668.87  207.29\n",
       "1255  805132.44  202.23\n",
       "1254  804522.67  204.86\n",
       "1253  804009.87  207.50\n",
       "1252  803925.28  202.92\n",
       "...         ...     ...\n",
       "4        539.89  281.90\n",
       "3        539.65  279.10\n",
       "2        501.20  277.90\n",
       "1        486.69  274.90\n",
       "0        350.11  280.40\n",
       "\n",
       "[1257 rows x 2 columns]"
      ]
     },
     "execution_count": 47,
     "metadata": {},
     "output_type": "execute_result"
    }
   ],
   "source": [
    "co2_time=co2_time.sort_values(by='age_gas',ascending=False)\n",
    "co2_time"
   ]
  },
  {
   "cell_type": "code",
   "execution_count": 48,
   "metadata": {},
   "outputs": [
    {
     "data": {
      "text/plain": [
       "age_gas    float64\n",
       "ppm        float64\n",
       "dtype: object"
      ]
     },
     "execution_count": 48,
     "metadata": {},
     "output_type": "execute_result"
    }
   ],
   "source": [
    "co2_time.dtypes"
   ]
  },
  {
   "cell_type": "markdown",
   "metadata": {},
   "source": [
    "Para esta grafíca de observaciones, se utilizara la edad real del gas como periodo de tiempo "
   ]
  },
  {
   "cell_type": "code",
   "execution_count": 49,
   "metadata": {},
   "outputs": [
    {
     "data": {
      "text/html": [
       "<div>\n",
       "<style scoped>\n",
       "    .dataframe tbody tr th:only-of-type {\n",
       "        vertical-align: middle;\n",
       "    }\n",
       "\n",
       "    .dataframe tbody tr th {\n",
       "        vertical-align: top;\n",
       "    }\n",
       "\n",
       "    .dataframe thead th {\n",
       "        text-align: right;\n",
       "    }\n",
       "</style>\n",
       "<table border=\"1\" class=\"dataframe\">\n",
       "  <thead>\n",
       "    <tr style=\"text-align: right;\">\n",
       "      <th></th>\n",
       "      <th>ppm</th>\n",
       "    </tr>\n",
       "    <tr>\n",
       "      <th>age_gas</th>\n",
       "      <th></th>\n",
       "    </tr>\n",
       "  </thead>\n",
       "  <tbody>\n",
       "    <tr>\n",
       "      <td>805668.87</td>\n",
       "      <td>207.29</td>\n",
       "    </tr>\n",
       "    <tr>\n",
       "      <td>805132.44</td>\n",
       "      <td>202.23</td>\n",
       "    </tr>\n",
       "    <tr>\n",
       "      <td>804522.67</td>\n",
       "      <td>204.86</td>\n",
       "    </tr>\n",
       "    <tr>\n",
       "      <td>804009.87</td>\n",
       "      <td>207.50</td>\n",
       "    </tr>\n",
       "    <tr>\n",
       "      <td>803925.28</td>\n",
       "      <td>202.92</td>\n",
       "    </tr>\n",
       "    <tr>\n",
       "      <td>...</td>\n",
       "      <td>...</td>\n",
       "    </tr>\n",
       "    <tr>\n",
       "      <td>539.89</td>\n",
       "      <td>281.90</td>\n",
       "    </tr>\n",
       "    <tr>\n",
       "      <td>539.65</td>\n",
       "      <td>279.10</td>\n",
       "    </tr>\n",
       "    <tr>\n",
       "      <td>501.20</td>\n",
       "      <td>277.90</td>\n",
       "    </tr>\n",
       "    <tr>\n",
       "      <td>486.69</td>\n",
       "      <td>274.90</td>\n",
       "    </tr>\n",
       "    <tr>\n",
       "      <td>350.11</td>\n",
       "      <td>280.40</td>\n",
       "    </tr>\n",
       "  </tbody>\n",
       "</table>\n",
       "<p>1257 rows × 1 columns</p>\n",
       "</div>"
      ],
      "text/plain": [
       "              ppm\n",
       "age_gas          \n",
       "805668.87  207.29\n",
       "805132.44  202.23\n",
       "804522.67  204.86\n",
       "804009.87  207.50\n",
       "803925.28  202.92\n",
       "...           ...\n",
       "539.89     281.90\n",
       "539.65     279.10\n",
       "501.20     277.90\n",
       "486.69     274.90\n",
       "350.11     280.40\n",
       "\n",
       "[1257 rows x 1 columns]"
      ]
     },
     "execution_count": 49,
     "metadata": {},
     "output_type": "execute_result"
    }
   ],
   "source": [
    "co2_age=co2_time.set_index('age_gas')\n",
    "co2_age"
   ]
  },
  {
   "cell_type": "markdown",
   "metadata": {},
   "source": [
    "Para hacer el conjunto de grafícas, se agregara una columna extra en un rango de tiempo para que python pueda tomar los valores como datetime , ya que las edades del gas como 340 o 800,00 años no tienen formato datetime que requiere python"
   ]
  },
  {
   "cell_type": "code",
   "execution_count": 51,
   "metadata": {},
   "outputs": [
    {
     "data": {
      "text/html": [
       "<div>\n",
       "<style scoped>\n",
       "    .dataframe tbody tr th:only-of-type {\n",
       "        vertical-align: middle;\n",
       "    }\n",
       "\n",
       "    .dataframe tbody tr th {\n",
       "        vertical-align: top;\n",
       "    }\n",
       "\n",
       "    .dataframe thead th {\n",
       "        text-align: right;\n",
       "    }\n",
       "</style>\n",
       "<table border=\"1\" class=\"dataframe\">\n",
       "  <thead>\n",
       "    <tr style=\"text-align: right;\">\n",
       "      <th></th>\n",
       "      <th>age_gas</th>\n",
       "      <th>ppm</th>\n",
       "      <th>date</th>\n",
       "    </tr>\n",
       "  </thead>\n",
       "  <tbody>\n",
       "    <tr>\n",
       "      <td>1256</td>\n",
       "      <td>805668.87</td>\n",
       "      <td>207.29</td>\n",
       "      <td>2001-01-01</td>\n",
       "    </tr>\n",
       "    <tr>\n",
       "      <td>1255</td>\n",
       "      <td>805132.44</td>\n",
       "      <td>202.23</td>\n",
       "      <td>2001-01-02</td>\n",
       "    </tr>\n",
       "    <tr>\n",
       "      <td>1254</td>\n",
       "      <td>804522.67</td>\n",
       "      <td>204.86</td>\n",
       "      <td>2001-01-03</td>\n",
       "    </tr>\n",
       "    <tr>\n",
       "      <td>1253</td>\n",
       "      <td>804009.87</td>\n",
       "      <td>207.50</td>\n",
       "      <td>2001-01-04</td>\n",
       "    </tr>\n",
       "    <tr>\n",
       "      <td>1252</td>\n",
       "      <td>803925.28</td>\n",
       "      <td>202.92</td>\n",
       "      <td>2001-01-05</td>\n",
       "    </tr>\n",
       "    <tr>\n",
       "      <td>...</td>\n",
       "      <td>...</td>\n",
       "      <td>...</td>\n",
       "      <td>...</td>\n",
       "    </tr>\n",
       "    <tr>\n",
       "      <td>4</td>\n",
       "      <td>539.89</td>\n",
       "      <td>281.90</td>\n",
       "      <td>2004-06-06</td>\n",
       "    </tr>\n",
       "    <tr>\n",
       "      <td>3</td>\n",
       "      <td>539.65</td>\n",
       "      <td>279.10</td>\n",
       "      <td>2004-06-07</td>\n",
       "    </tr>\n",
       "    <tr>\n",
       "      <td>2</td>\n",
       "      <td>501.20</td>\n",
       "      <td>277.90</td>\n",
       "      <td>2004-06-08</td>\n",
       "    </tr>\n",
       "    <tr>\n",
       "      <td>1</td>\n",
       "      <td>486.69</td>\n",
       "      <td>274.90</td>\n",
       "      <td>2004-06-09</td>\n",
       "    </tr>\n",
       "    <tr>\n",
       "      <td>0</td>\n",
       "      <td>350.11</td>\n",
       "      <td>280.40</td>\n",
       "      <td>2004-06-10</td>\n",
       "    </tr>\n",
       "  </tbody>\n",
       "</table>\n",
       "<p>1257 rows × 3 columns</p>\n",
       "</div>"
      ],
      "text/plain": [
       "        age_gas     ppm       date\n",
       "1256  805668.87  207.29 2001-01-01\n",
       "1255  805132.44  202.23 2001-01-02\n",
       "1254  804522.67  204.86 2001-01-03\n",
       "1253  804009.87  207.50 2001-01-04\n",
       "1252  803925.28  202.92 2001-01-05\n",
       "...         ...     ...        ...\n",
       "4        539.89  281.90 2004-06-06\n",
       "3        539.65  279.10 2004-06-07\n",
       "2        501.20  277.90 2004-06-08\n",
       "1        486.69  274.90 2004-06-09\n",
       "0        350.11  280.40 2004-06-10\n",
       "\n",
       "[1257 rows x 3 columns]"
      ]
     },
     "execution_count": 51,
     "metadata": {},
     "output_type": "execute_result"
    }
   ],
   "source": [
    "co2_time['date']=pd.date_range('1/1/2001',periods=1257)\n",
    "co2_time"
   ]
  },
  {
   "cell_type": "code",
   "execution_count": 52,
   "metadata": {},
   "outputs": [],
   "source": [
    "co2_time.to_csv('datosaicc.csv')"
   ]
  },
  {
   "cell_type": "code",
   "execution_count": 53,
   "metadata": {},
   "outputs": [
    {
     "data": {
      "text/html": [
       "<div>\n",
       "<style scoped>\n",
       "    .dataframe tbody tr th:only-of-type {\n",
       "        vertical-align: middle;\n",
       "    }\n",
       "\n",
       "    .dataframe tbody tr th {\n",
       "        vertical-align: top;\n",
       "    }\n",
       "\n",
       "    .dataframe thead th {\n",
       "        text-align: right;\n",
       "    }\n",
       "</style>\n",
       "<table border=\"1\" class=\"dataframe\">\n",
       "  <thead>\n",
       "    <tr style=\"text-align: right;\">\n",
       "      <th></th>\n",
       "      <th>age_gas</th>\n",
       "      <th>ppm</th>\n",
       "    </tr>\n",
       "    <tr>\n",
       "      <th>date</th>\n",
       "      <th></th>\n",
       "      <th></th>\n",
       "    </tr>\n",
       "  </thead>\n",
       "  <tbody>\n",
       "    <tr>\n",
       "      <td>2001-01-01</td>\n",
       "      <td>805668.87</td>\n",
       "      <td>207.29</td>\n",
       "    </tr>\n",
       "    <tr>\n",
       "      <td>2001-01-02</td>\n",
       "      <td>805132.44</td>\n",
       "      <td>202.23</td>\n",
       "    </tr>\n",
       "    <tr>\n",
       "      <td>2001-01-03</td>\n",
       "      <td>804522.67</td>\n",
       "      <td>204.86</td>\n",
       "    </tr>\n",
       "    <tr>\n",
       "      <td>2001-01-04</td>\n",
       "      <td>804009.87</td>\n",
       "      <td>207.50</td>\n",
       "    </tr>\n",
       "    <tr>\n",
       "      <td>2001-01-05</td>\n",
       "      <td>803925.28</td>\n",
       "      <td>202.92</td>\n",
       "    </tr>\n",
       "    <tr>\n",
       "      <td>...</td>\n",
       "      <td>...</td>\n",
       "      <td>...</td>\n",
       "    </tr>\n",
       "    <tr>\n",
       "      <td>2004-06-06</td>\n",
       "      <td>539.89</td>\n",
       "      <td>281.90</td>\n",
       "    </tr>\n",
       "    <tr>\n",
       "      <td>2004-06-07</td>\n",
       "      <td>539.65</td>\n",
       "      <td>279.10</td>\n",
       "    </tr>\n",
       "    <tr>\n",
       "      <td>2004-06-08</td>\n",
       "      <td>501.20</td>\n",
       "      <td>277.90</td>\n",
       "    </tr>\n",
       "    <tr>\n",
       "      <td>2004-06-09</td>\n",
       "      <td>486.69</td>\n",
       "      <td>274.90</td>\n",
       "    </tr>\n",
       "    <tr>\n",
       "      <td>2004-06-10</td>\n",
       "      <td>350.11</td>\n",
       "      <td>280.40</td>\n",
       "    </tr>\n",
       "  </tbody>\n",
       "</table>\n",
       "<p>1257 rows × 2 columns</p>\n",
       "</div>"
      ],
      "text/plain": [
       "              age_gas     ppm\n",
       "date                         \n",
       "2001-01-01  805668.87  207.29\n",
       "2001-01-02  805132.44  202.23\n",
       "2001-01-03  804522.67  204.86\n",
       "2001-01-04  804009.87  207.50\n",
       "2001-01-05  803925.28  202.92\n",
       "...               ...     ...\n",
       "2004-06-06     539.89  281.90\n",
       "2004-06-07     539.65  279.10\n",
       "2004-06-08     501.20  277.90\n",
       "2004-06-09     486.69  274.90\n",
       "2004-06-10     350.11  280.40\n",
       "\n",
       "[1257 rows x 2 columns]"
      ]
     },
     "execution_count": 53,
     "metadata": {},
     "output_type": "execute_result"
    }
   ],
   "source": [
    "co2_time=co2_time.set_index('date')\n",
    "co2_time"
   ]
  },
  {
   "cell_type": "markdown",
   "metadata": {},
   "source": [
    "Se elimina age_gas para que el conjunto de grafias corra solo para ppm "
   ]
  },
  {
   "cell_type": "code",
   "execution_count": 54,
   "metadata": {
    "scrolled": true
   },
   "outputs": [
    {
     "data": {
      "text/html": [
       "<div>\n",
       "<style scoped>\n",
       "    .dataframe tbody tr th:only-of-type {\n",
       "        vertical-align: middle;\n",
       "    }\n",
       "\n",
       "    .dataframe tbody tr th {\n",
       "        vertical-align: top;\n",
       "    }\n",
       "\n",
       "    .dataframe thead th {\n",
       "        text-align: right;\n",
       "    }\n",
       "</style>\n",
       "<table border=\"1\" class=\"dataframe\">\n",
       "  <thead>\n",
       "    <tr style=\"text-align: right;\">\n",
       "      <th></th>\n",
       "      <th>ppm</th>\n",
       "    </tr>\n",
       "    <tr>\n",
       "      <th>date</th>\n",
       "      <th></th>\n",
       "    </tr>\n",
       "  </thead>\n",
       "  <tbody>\n",
       "    <tr>\n",
       "      <td>2001-01-01</td>\n",
       "      <td>207.29</td>\n",
       "    </tr>\n",
       "    <tr>\n",
       "      <td>2001-01-02</td>\n",
       "      <td>202.23</td>\n",
       "    </tr>\n",
       "    <tr>\n",
       "      <td>2001-01-03</td>\n",
       "      <td>204.86</td>\n",
       "    </tr>\n",
       "    <tr>\n",
       "      <td>2001-01-04</td>\n",
       "      <td>207.50</td>\n",
       "    </tr>\n",
       "    <tr>\n",
       "      <td>2001-01-05</td>\n",
       "      <td>202.92</td>\n",
       "    </tr>\n",
       "    <tr>\n",
       "      <td>...</td>\n",
       "      <td>...</td>\n",
       "    </tr>\n",
       "    <tr>\n",
       "      <td>2004-06-06</td>\n",
       "      <td>281.90</td>\n",
       "    </tr>\n",
       "    <tr>\n",
       "      <td>2004-06-07</td>\n",
       "      <td>279.10</td>\n",
       "    </tr>\n",
       "    <tr>\n",
       "      <td>2004-06-08</td>\n",
       "      <td>277.90</td>\n",
       "    </tr>\n",
       "    <tr>\n",
       "      <td>2004-06-09</td>\n",
       "      <td>274.90</td>\n",
       "    </tr>\n",
       "    <tr>\n",
       "      <td>2004-06-10</td>\n",
       "      <td>280.40</td>\n",
       "    </tr>\n",
       "  </tbody>\n",
       "</table>\n",
       "<p>1257 rows × 1 columns</p>\n",
       "</div>"
      ],
      "text/plain": [
       "               ppm\n",
       "date              \n",
       "2001-01-01  207.29\n",
       "2001-01-02  202.23\n",
       "2001-01-03  204.86\n",
       "2001-01-04  207.50\n",
       "2001-01-05  202.92\n",
       "...            ...\n",
       "2004-06-06  281.90\n",
       "2004-06-07  279.10\n",
       "2004-06-08  277.90\n",
       "2004-06-09  274.90\n",
       "2004-06-10  280.40\n",
       "\n",
       "[1257 rows x 1 columns]"
      ]
     },
     "execution_count": 54,
     "metadata": {},
     "output_type": "execute_result"
    }
   ],
   "source": [
    "co2_date=co2_time.drop(['age_gas'],axis=1)\n",
    "co2_date"
   ]
  },
  {
   "cell_type": "code",
   "execution_count": 55,
   "metadata": {},
   "outputs": [
    {
     "name": "stderr",
     "output_type": "stream",
     "text": [
      "D:\\Data-Ironhack\\Apps\\ANACONDA\\lib\\site-packages\\pandas\\plotting\\_matplotlib\\tools.py:307: MatplotlibDeprecationWarning: \n",
      "The rowNum attribute was deprecated in Matplotlib 3.2 and will be removed two minor releases later. Use ax.get_subplotspec().rowspan.start instead.\n",
      "  layout[ax.rowNum, ax.colNum] = ax.get_visible()\n",
      "D:\\Data-Ironhack\\Apps\\ANACONDA\\lib\\site-packages\\pandas\\plotting\\_matplotlib\\tools.py:307: MatplotlibDeprecationWarning: \n",
      "The colNum attribute was deprecated in Matplotlib 3.2 and will be removed two minor releases later. Use ax.get_subplotspec().colspan.start instead.\n",
      "  layout[ax.rowNum, ax.colNum] = ax.get_visible()\n",
      "D:\\Data-Ironhack\\Apps\\ANACONDA\\lib\\site-packages\\pandas\\plotting\\_matplotlib\\tools.py:313: MatplotlibDeprecationWarning: \n",
      "The rowNum attribute was deprecated in Matplotlib 3.2 and will be removed two minor releases later. Use ax.get_subplotspec().rowspan.start instead.\n",
      "  if not layout[ax.rowNum + 1, ax.colNum]:\n",
      "D:\\Data-Ironhack\\Apps\\ANACONDA\\lib\\site-packages\\pandas\\plotting\\_matplotlib\\tools.py:313: MatplotlibDeprecationWarning: \n",
      "The colNum attribute was deprecated in Matplotlib 3.2 and will be removed two minor releases later. Use ax.get_subplotspec().colspan.start instead.\n",
      "  if not layout[ax.rowNum + 1, ax.colNum]:\n",
      "D:\\Data-Ironhack\\Apps\\ANACONDA\\lib\\site-packages\\pandas\\plotting\\_matplotlib\\tools.py:307: MatplotlibDeprecationWarning: \n",
      "The rowNum attribute was deprecated in Matplotlib 3.2 and will be removed two minor releases later. Use ax.get_subplotspec().rowspan.start instead.\n",
      "  layout[ax.rowNum, ax.colNum] = ax.get_visible()\n",
      "D:\\Data-Ironhack\\Apps\\ANACONDA\\lib\\site-packages\\pandas\\plotting\\_matplotlib\\tools.py:307: MatplotlibDeprecationWarning: \n",
      "The colNum attribute was deprecated in Matplotlib 3.2 and will be removed two minor releases later. Use ax.get_subplotspec().colspan.start instead.\n",
      "  layout[ax.rowNum, ax.colNum] = ax.get_visible()\n",
      "D:\\Data-Ironhack\\Apps\\ANACONDA\\lib\\site-packages\\pandas\\plotting\\_matplotlib\\tools.py:313: MatplotlibDeprecationWarning: \n",
      "The rowNum attribute was deprecated in Matplotlib 3.2 and will be removed two minor releases later. Use ax.get_subplotspec().rowspan.start instead.\n",
      "  if not layout[ax.rowNum + 1, ax.colNum]:\n",
      "D:\\Data-Ironhack\\Apps\\ANACONDA\\lib\\site-packages\\pandas\\plotting\\_matplotlib\\tools.py:313: MatplotlibDeprecationWarning: \n",
      "The colNum attribute was deprecated in Matplotlib 3.2 and will be removed two minor releases later. Use ax.get_subplotspec().colspan.start instead.\n",
      "  if not layout[ax.rowNum + 1, ax.colNum]:\n",
      "D:\\Data-Ironhack\\Apps\\ANACONDA\\lib\\site-packages\\pandas\\plotting\\_matplotlib\\tools.py:307: MatplotlibDeprecationWarning: \n",
      "The rowNum attribute was deprecated in Matplotlib 3.2 and will be removed two minor releases later. Use ax.get_subplotspec().rowspan.start instead.\n",
      "  layout[ax.rowNum, ax.colNum] = ax.get_visible()\n",
      "D:\\Data-Ironhack\\Apps\\ANACONDA\\lib\\site-packages\\pandas\\plotting\\_matplotlib\\tools.py:307: MatplotlibDeprecationWarning: \n",
      "The colNum attribute was deprecated in Matplotlib 3.2 and will be removed two minor releases later. Use ax.get_subplotspec().colspan.start instead.\n",
      "  layout[ax.rowNum, ax.colNum] = ax.get_visible()\n",
      "D:\\Data-Ironhack\\Apps\\ANACONDA\\lib\\site-packages\\pandas\\plotting\\_matplotlib\\tools.py:313: MatplotlibDeprecationWarning: \n",
      "The rowNum attribute was deprecated in Matplotlib 3.2 and will be removed two minor releases later. Use ax.get_subplotspec().rowspan.start instead.\n",
      "  if not layout[ax.rowNum + 1, ax.colNum]:\n",
      "D:\\Data-Ironhack\\Apps\\ANACONDA\\lib\\site-packages\\pandas\\plotting\\_matplotlib\\tools.py:313: MatplotlibDeprecationWarning: \n",
      "The colNum attribute was deprecated in Matplotlib 3.2 and will be removed two minor releases later. Use ax.get_subplotspec().colspan.start instead.\n",
      "  if not layout[ax.rowNum + 1, ax.colNum]:\n",
      "D:\\Data-Ironhack\\Apps\\ANACONDA\\lib\\site-packages\\pandas\\plotting\\_matplotlib\\tools.py:307: MatplotlibDeprecationWarning: \n",
      "The rowNum attribute was deprecated in Matplotlib 3.2 and will be removed two minor releases later. Use ax.get_subplotspec().rowspan.start instead.\n",
      "  layout[ax.rowNum, ax.colNum] = ax.get_visible()\n",
      "D:\\Data-Ironhack\\Apps\\ANACONDA\\lib\\site-packages\\pandas\\plotting\\_matplotlib\\tools.py:307: MatplotlibDeprecationWarning: \n",
      "The colNum attribute was deprecated in Matplotlib 3.2 and will be removed two minor releases later. Use ax.get_subplotspec().colspan.start instead.\n",
      "  layout[ax.rowNum, ax.colNum] = ax.get_visible()\n",
      "D:\\Data-Ironhack\\Apps\\ANACONDA\\lib\\site-packages\\pandas\\plotting\\_matplotlib\\tools.py:313: MatplotlibDeprecationWarning: \n",
      "The rowNum attribute was deprecated in Matplotlib 3.2 and will be removed two minor releases later. Use ax.get_subplotspec().rowspan.start instead.\n",
      "  if not layout[ax.rowNum + 1, ax.colNum]:\n",
      "D:\\Data-Ironhack\\Apps\\ANACONDA\\lib\\site-packages\\pandas\\plotting\\_matplotlib\\tools.py:313: MatplotlibDeprecationWarning: \n",
      "The colNum attribute was deprecated in Matplotlib 3.2 and will be removed two minor releases later. Use ax.get_subplotspec().colspan.start instead.\n",
      "  if not layout[ax.rowNum + 1, ax.colNum]:\n"
     ]
    },
    {
     "data": {
      "image/png": "[encoded data removed]",
      "text/plain": [
       "<Figure size 1296x576 with 4 Axes>"
      ]
     },
     "metadata": {
      "needs_background": "light"
     },
     "output_type": "display_data"
    }
   ],
   "source": [
    "rcParams['figure.figsize'] = 18, 8\n",
    "decomposition=sm.tsa.seasonal_decompose(co2_date,model='additive')\n",
    "\n",
    "fig=decomposition.plot()\n",
    "plt.show()"
   ]
  },
  {
   "cell_type": "code",
   "execution_count": 56,
   "metadata": {
    "scrolled": true
   },
   "outputs": [
    {
     "data": {
      "image/png": "[encoded data removed]",
      "text/plain": [
       "<Figure size 864x576 with 2 Axes>"
      ]
     },
     "metadata": {
      "needs_background": "light"
     },
     "output_type": "display_data"
    }
   ],
   "source": [
    "fig = plt.figure(figsize=(12,8))\n",
    "ax1 = fig.add_subplot(211)\n",
    "fig = sm.graphics.tsa.plot_acf(co2_age.values.squeeze(), lags=40, ax=ax1)\n",
    "ax2 = fig.add_subplot(212)\n",
    "fig = sm.graphics.tsa.plot_pacf(co2_age, lags=40, ax=ax2)"
   ]
  },
  {
   "cell_type": "markdown",
   "metadata": {},
   "source": [
    "### Modelo Arma"
   ]
  },
  {
   "cell_type": "code",
   "execution_count": 57,
   "metadata": {},
   "outputs": [
    {
     "name": "stderr",
     "output_type": "stream",
     "text": [
      "D:\\Data-Ironhack\\Apps\\ANACONDA\\lib\\site-packages\\statsmodels\\tsa\\base\\tsa_model.py:165: ValueWarning: No frequency information was provided, so inferred frequency D will be used.\n",
      "  % freq, ValueWarning)\n"
     ]
    },
    {
     "name": "stdout",
     "output_type": "stream",
     "text": [
      "const        229.749053\n",
      "ar.L1.ppm      0.754741\n",
      "ar.L2.ppm      0.230829\n",
      "dtype: float64\n"
     ]
    }
   ],
   "source": [
    "arma_mod20 = sm.tsa.ARMA(co2_date, (2,0)).fit(disp=False)\n",
    "print(arma_mod20.params)"
   ]
  },
  {
   "cell_type": "code",
   "execution_count": 58,
   "metadata": {},
   "outputs": [
    {
     "name": "stderr",
     "output_type": "stream",
     "text": [
      "D:\\Data-Ironhack\\Apps\\ANACONDA\\lib\\site-packages\\statsmodels\\tsa\\base\\tsa_model.py:165: ValueWarning: No frequency information was provided, so inferred frequency D will be used.\n",
      "  % freq, ValueWarning)\n"
     ]
    }
   ],
   "source": [
    "arma_mod30 = sm.tsa.ARMA(co2_date, (3,0)).fit(disp=False)"
   ]
  },
  {
   "cell_type": "code",
   "execution_count": 59,
   "metadata": {},
   "outputs": [
    {
     "name": "stdout",
     "output_type": "stream",
     "text": [
      "7707.670419176418 7728.21635201078 7715.392180033966\n"
     ]
    }
   ],
   "source": [
    "print(arma_mod20.aic, arma_mod20.bic, arma_mod20.hqic)"
   ]
  },
  {
   "cell_type": "code",
   "execution_count": 60,
   "metadata": {},
   "outputs": [],
   "source": [
    "resid = arma_mod30.resid"
   ]
  },
  {
   "cell_type": "code",
   "execution_count": 61,
   "metadata": {},
   "outputs": [
    {
     "data": {
      "text/plain": [
       "NormaltestResult(statistic=1020.6207377285375, pvalue=2.3714978990272034e-222)"
      ]
     },
     "execution_count": 61,
     "metadata": {},
     "output_type": "execute_result"
    }
   ],
   "source": [
    "stats.normaltest(resid)"
   ]
  },
  {
   "cell_type": "code",
   "execution_count": 62,
   "metadata": {},
   "outputs": [
    {
     "data": {
      "image/png": "[encoded data removed]",
      "text/plain": [
       "<Figure size 864x576 with 1 Axes>"
      ]
     },
     "metadata": {
      "needs_background": "light"
     },
     "output_type": "display_data"
    }
   ],
   "source": [
    "fig = plt.figure(figsize=(12,8))\n",
    "ax = fig.add_subplot(111)\n",
    "fig = qqplot(resid, line='q', ax=ax, fit=True)"
   ]
  },
  {
   "cell_type": "code",
   "execution_count": 63,
   "metadata": {},
   "outputs": [
    {
     "name": "stdout",
     "output_type": "stream",
     "text": [
      "            AC          Q  Prob(>Q)\n",
      "lag                                \n",
      "1.0  -0.003693   0.017188  0.895695\n",
      "2.0   0.011347   0.179539  0.914142\n",
      "3.0   0.078728   8.001655  0.045978\n",
      "4.0   0.058793  12.367484  0.014818\n",
      "5.0   0.080430  20.544443  0.000987\n",
      "6.0   0.059504  25.023603  0.000338\n",
      "7.0   0.036748  26.733250  0.000372\n",
      "8.0   0.028563  27.766968  0.000521\n",
      "9.0   0.000184  27.767011  0.001043\n",
      "10.0  0.024194  28.509883  0.001495\n",
      "11.0 -0.029853  29.641839  0.001803\n",
      "12.0  0.045772  32.304943  0.001241\n",
      "13.0 -0.047189  35.137739  0.000806\n",
      "14.0  0.007002  35.200154  0.001373\n",
      "15.0 -0.030432  36.380194  0.001558\n",
      "16.0  0.031504  37.645902  0.001699\n",
      "17.0 -0.035521  39.256222  0.001646\n",
      "18.0 -0.044155  41.746469  0.001200\n",
      "19.0  0.022028  42.366780  0.001581\n",
      "20.0 -0.087156  52.084962  0.000111\n",
      "21.0 -0.016685  52.441398  0.000165\n",
      "22.0 -0.016658  52.796981  0.000242\n",
      "23.0 -0.073222  59.672935  0.000043\n",
      "24.0  0.024758  60.459682  0.000055\n",
      "25.0 -0.011840  60.639746  0.000085\n",
      "26.0 -0.037349  62.433118  0.000078\n",
      "27.0  0.034346  63.950940  0.000078\n",
      "28.0 -0.072259  70.674420  0.000015\n",
      "29.0 -0.051216  74.054804  0.000008\n",
      "30.0 -0.008292  74.143488  0.000013\n",
      "31.0 -0.031998  75.465163  0.000014\n",
      "32.0  0.002321  75.472121  0.000023\n",
      "33.0 -0.006928  75.534177  0.000035\n",
      "34.0 -0.031596  76.826004  0.000037\n",
      "35.0 -0.074914  84.094108  0.000006\n",
      "36.0  0.004815  84.124157  0.000010\n",
      "37.0  0.000122  84.124176  0.000016\n",
      "38.0 -0.036556  85.859036  0.000015\n",
      "39.0 -0.053668  89.601349  0.000007\n",
      "40.0  0.027997  90.620594  0.000009\n"
     ]
    }
   ],
   "source": [
    "r,q,p = sm.tsa.acf(resid.values.squeeze(), fft=True, qstat=True)\n",
    "data = np.c_[range(1,41), r[1:], q, p]\n",
    "table = pd.DataFrame(data, columns=['lag', \"AC\", \"Q\", \"Prob(>Q)\"])\n",
    "print(table.set_index('lag'))"
   ]
  },
  {
   "cell_type": "code",
   "execution_count": 64,
   "metadata": {},
   "outputs": [
    {
     "name": "stdout",
     "output_type": "stream",
     "text": [
      "2001-01-01    229.477505\n",
      "2001-01-02    207.711292\n",
      "2001-01-03    203.795461\n",
      "2001-01-04    204.232311\n",
      "2001-01-05    207.549553\n",
      "                 ...    \n",
      "2001-03-06    248.319669\n",
      "2001-03-07    244.962412\n",
      "2001-03-08    252.531126\n",
      "2001-03-09    248.579814\n",
      "2001-03-10    251.943660\n",
      "Freq: D, Length: 69, dtype: float64\n"
     ]
    }
   ],
   "source": [
    "predict_sunspots = arma_mod30.predict('2001', '2001-03-10', dynamic=False)\n",
    "print(predict_sunspots)"
   ]
  },
  {
   "cell_type": "code",
   "execution_count": 65,
   "metadata": {},
   "outputs": [
    {
     "data": {
      "image/png": "[encoded data removed]",
      "text/plain": [
       "<Figure size 864x576 with 1 Axes>"
      ]
     },
     "metadata": {
      "needs_background": "light"
     },
     "output_type": "display_data"
    }
   ],
   "source": [
    "fig, ax = plt.subplots(figsize=(12, 8))\n",
    "ax = co2_date.loc['2001':].plot(ax=ax)\n",
    "fig = arma_mod30.plot_predict('2001-02-20', '2001-03-10', dynamic=True, ax=ax, plot_insample=False)"
   ]
  },
  {
   "cell_type": "code",
   "execution_count": 66,
   "metadata": {},
   "outputs": [
    {
     "data": {
      "text/plain": [
       "<matplotlib.axes._subplots.AxesSubplot at 0x2844bdc2248>"
      ]
     },
     "execution_count": 66,
     "metadata": {},
     "output_type": "execute_result"
    },
    {
     "data": {
      "image/png": "[encoded data removed]",
      "text/plain": [
       "<Figure size 1296x576 with 1 Axes>"
      ]
     },
     "metadata": {
      "needs_background": "light"
     },
     "output_type": "display_data"
    }
   ],
   "source": [
    "rcParams['figure.figsize'] = 18, 8\n",
    "\n",
    "lag_plot(co2_time['ppm'])"
   ]
  },
  {
   "cell_type": "code",
   "execution_count": 67,
   "metadata": {},
   "outputs": [
    {
     "data": {
      "text/plain": [
       "<matplotlib.axes._subplots.AxesSubplot at 0x2844c95d408>"
      ]
     },
     "execution_count": 67,
     "metadata": {},
     "output_type": "execute_result"
    },
    {
     "data": {
      "image/png": "[encoded data removed]",
      "text/plain": [
       "<Figure size 1296x576 with 1 Axes>"
      ]
     },
     "metadata": {
      "needs_background": "light"
     },
     "output_type": "display_data"
    }
   ],
   "source": [
    "rcParams['figure.figsize'] = 18, 8\n",
    "\n",
    "lag_plot(co2_time['age_gas'])"
   ]
  },
  {
   "cell_type": "markdown",
   "metadata": {},
   "source": [
    "## ARMA MODEL"
   ]
  },
  {
   "cell_type": "code",
   "execution_count": 68,
   "metadata": {},
   "outputs": [
    {
     "name": "stdout",
     "output_type": "stream",
     "text": [
      "pvalue for Age is 0.9831866764163345\n",
      "pvalue for Ppm is 0.0019448508575280951\n",
      "\n",
      "\n",
      "tstatistic for  Age is 0.4474917368570842\n",
      "tstatistic for Ppm is -3.9124865320910494\n",
      "\n",
      "\n",
      "\t1%:  -3.4356 Los datos son not estacionarios con 99% de confianza\n",
      "\t5%:  -2.8638 Los datos son not estacionarios con 95% de confianza\n",
      "\t10%:  -2.568 Los datos son not estacionarios con 90% de confianza\n",
      "\n",
      "\n",
      "\t1%:  -3.4356 Los datos son  estacionarios con 99% de confianza\n",
      "\t5%:  -2.8639 Los datos son  estacionarios con 95% de confianza\n",
      "\t10%:  -2.568 Los datos son  estacionarios con 90% de confianza\n"
     ]
    }
   ],
   "source": [
    "age = adfuller(co2_time['age_gas'])\n",
    "ppm= adfuller(co2_time['ppm'])\n",
    "\n",
    "print(f'pvalue for Age is {age[1]}')\n",
    "print(f'pvalue for Ppm is {ppm[1]}')\n",
    "\n",
    "print('\\n')\n",
    "\n",
    "print(f'tstatistic for  Age is {age[0]}')\n",
    "print(f'tstatistic for Ppm is {ppm[0]}')\n",
    "\n",
    "print('\\n')\n",
    "\n",
    "for k, v in age[4].items():\n",
    "    print('\\t{}:  {:.05} Los datos son {} estacionarios con {}% de confianza'.format(k, v, \"not\" if v < age[0] else \"\", 100-int(k[:-1])))\n",
    "\n",
    "print('\\n')\n",
    "\n",
    "for k, v in ppm[4].items():\n",
    "    print('\\t{}:  {:.05} Los datos son {} estacionarios con {}% de confianza'.format(k, v, \"not\" if v <ppm[0] else \"\", 100-int(k[:-1]))) "
   ]
  },
  {
   "cell_type": "code",
   "execution_count": 69,
   "metadata": {},
   "outputs": [
    {
     "name": "stderr",
     "output_type": "stream",
     "text": [
      "D:\\Data-Ironhack\\Apps\\ANACONDA\\lib\\site-packages\\statsmodels\\tsa\\base\\tsa_model.py:165: ValueWarning: No frequency information was provided, so inferred frequency D will be used.\n",
      "  % freq, ValueWarning)\n"
     ]
    },
    {
     "data": {
      "text/html": [
       "<div>\n",
       "<style scoped>\n",
       "    .dataframe tbody tr th:only-of-type {\n",
       "        vertical-align: middle;\n",
       "    }\n",
       "\n",
       "    .dataframe tbody tr th {\n",
       "        vertical-align: top;\n",
       "    }\n",
       "\n",
       "    .dataframe thead th {\n",
       "        text-align: right;\n",
       "    }\n",
       "</style>\n",
       "<table border=\"1\" class=\"dataframe\">\n",
       "  <thead>\n",
       "    <tr style=\"text-align: right;\">\n",
       "      <th></th>\n",
       "      <th>Observed</th>\n",
       "      <th>Predicted</th>\n",
       "    </tr>\n",
       "  </thead>\n",
       "  <tbody>\n",
       "    <tr>\n",
       "      <td>2004-06-01</td>\n",
       "      <td>278.4</td>\n",
       "      <td>276.534046</td>\n",
       "    </tr>\n",
       "    <tr>\n",
       "      <td>2004-06-02</td>\n",
       "      <td>280.1</td>\n",
       "      <td>277.113217</td>\n",
       "    </tr>\n",
       "    <tr>\n",
       "      <td>2004-06-03</td>\n",
       "      <td>282.2</td>\n",
       "      <td>279.097595</td>\n",
       "    </tr>\n",
       "    <tr>\n",
       "      <td>2004-06-04</td>\n",
       "      <td>281.1</td>\n",
       "      <td>281.003090</td>\n",
       "    </tr>\n",
       "    <tr>\n",
       "      <td>2004-06-05</td>\n",
       "      <td>277.7</td>\n",
       "      <td>280.663216</td>\n",
       "    </tr>\n",
       "    <tr>\n",
       "      <td>2004-06-06</td>\n",
       "      <td>281.9</td>\n",
       "      <td>277.641274</td>\n",
       "    </tr>\n",
       "    <tr>\n",
       "      <td>2004-06-07</td>\n",
       "      <td>279.1</td>\n",
       "      <td>280.026496</td>\n",
       "    </tr>\n",
       "    <tr>\n",
       "      <td>2004-06-08</td>\n",
       "      <td>277.9</td>\n",
       "      <td>279.231852</td>\n",
       "    </tr>\n",
       "    <tr>\n",
       "      <td>2004-06-09</td>\n",
       "      <td>274.9</td>\n",
       "      <td>277.224166</td>\n",
       "    </tr>\n",
       "    <tr>\n",
       "      <td>2004-06-10</td>\n",
       "      <td>280.4</td>\n",
       "      <td>274.864798</td>\n",
       "    </tr>\n",
       "  </tbody>\n",
       "</table>\n",
       "</div>"
      ],
      "text/plain": [
       "            Observed   Predicted\n",
       "2004-06-01     278.4  276.534046\n",
       "2004-06-02     280.1  277.113217\n",
       "2004-06-03     282.2  279.097595\n",
       "2004-06-04     281.1  281.003090\n",
       "2004-06-05     277.7  280.663216\n",
       "2004-06-06     281.9  277.641274\n",
       "2004-06-07     279.1  280.026496\n",
       "2004-06-08     277.9  279.231852\n",
       "2004-06-09     274.9  277.224166\n",
       "2004-06-10     280.4  274.864798"
      ]
     },
     "execution_count": 69,
     "metadata": {},
     "output_type": "execute_result"
    }
   ],
   "source": [
    "train , test = co2_time['ppm'][:-10] , co2_time['ppm'][-10:]\n",
    "\n",
    "model = ARMA(co2_time['ppm'], order=(2, 1))\n",
    "model_fit = model.fit(disp=False)\n",
    "predictions = model_fit.predict(start=len(train), end=len(train) + len(test) -1, dynamic=False)\n",
    "\n",
    "df = pd.DataFrame({'Observed':test, 'Predicted':predictions})\n",
    "df"
   ]
  },
  {
   "cell_type": "code",
   "execution_count": 70,
   "metadata": {
    "scrolled": true
   },
   "outputs": [
    {
     "name": "stdout",
     "output_type": "stream",
     "text": [
      "Our model has a Root Mean Squared Error of 2.9601823104521108.\n"
     ]
    }
   ],
   "source": [
    "x1 = df['Observed']\n",
    "x2 = df['Predicted']\n",
    "print('Our model has a Root Mean Squared Error of {:02}.'.format(sm.tools.eval_measures.rmse(x1, x2, axis=0)))"
   ]
  },
  {
   "cell_type": "markdown",
   "metadata": {},
   "source": [
    "## SARIMA "
   ]
  },
  {
   "cell_type": "code",
   "execution_count": 1,
   "metadata": {},
   "outputs": [],
   "source": [
    "# {for param in pdq:\n",
    "#     for param_estacionales  in seasonal_pdq:\n",
    "#         try:\n",
    "#             mod = sm.tsa.statespace.SARIMAX(y,\n",
    "#                                             order=param,\n",
    "#                                             seasonal_order=param_estacionales,\n",
    "#                                             enforce_stationarity=False,\n",
    "#                                             enforce_invertibility=False)\n",
    "#             results = mod.fit()\n",
    "#             print(f'ARIMA {param} x {param_estacionales}12 - AIC:{results.aic}')\n",
    "#             #Akaike Information Criteria\n",
    "#         except:\n",
    "#             continue\n",
    "# #%%\n",
    "# resDiff = sm.tsa.arma_order_select_ic(co2_date.ppm, ic=['aic', 'bic'])\n",
    "# print(f'ARMA(p,q)={resDiff[\"aic_min_order\"]} es el mejor.')\n"
   ]
  },
  {
   "cell_type": "code",
   "execution_count": 72,
   "metadata": {},
   "outputs": [
    {
     "name": "stdout",
     "output_type": "stream",
     "text": [
      "                           Statespace Model Results                           \n",
      "==============================================================================\n",
      "Dep. Variable:                    ppm   No. Observations:                   42\n",
      "Model:               SARIMAX(1, 0, 0)   Log Likelihood                -188.462\n",
      "Date:                Mon, 13 Jul 2020   AIC                            380.924\n",
      "Time:                        18:02:14   BIC                            384.351\n",
      "Sample:                    01-01-2001   HQIC                           382.172\n",
      "                         - 06-01-2004                                         \n",
      "Covariance Type:                  opg                                         \n",
      "==============================================================================\n",
      "                 coef    std err          z      P>|z|      [0.025      0.975]\n",
      "------------------------------------------------------------------------------\n",
      "ar.L1          1.0026      0.017     58.840      0.000       0.969       1.036\n",
      "sigma2       575.5911     96.284      5.978      0.000     386.878     764.305\n",
      "===================================================================================\n",
      "Ljung-Box (Q):                       40.16   Jarque-Bera (JB):                10.31\n",
      "Prob(Q):                              0.46   Prob(JB):                         0.01\n",
      "Heteroskedasticity (H):               3.57   Skew:                            -0.63\n",
      "Prob(H) (two-sided):                  0.02   Kurtosis:                         5.11\n",
      "===================================================================================\n",
      "\n",
      "Warnings:\n",
      "[1] Covariance matrix calculated using the outer product of gradients (complex-step).\n"
     ]
    },
    {
     "name": "stderr",
     "output_type": "stream",
     "text": [
      "D:\\Data-Ironhack\\Apps\\ANACONDA\\lib\\site-packages\\statsmodels\\base\\model.py:512: ConvergenceWarning: Maximum Likelihood optimization failed to converge. Check mle_retvals\n",
      "  \"Check mle_retvals\", ConvergenceWarning)\n"
     ]
    }
   ],
   "source": [
    "y=co2_date['ppm'].resample('MS').mean()\n",
    "mod = sm.tsa.statespace.SARIMAX(y,\n",
    "                                order=(1, 0, 0),\n",
    "                                seasonal_order= (0, 0, 0, 12),\n",
    "                                enforce_stationarity=False,\n",
    "                                enforce_invertibility=False)\n",
    "resultados = mod.fit()\n",
    "print(resultados.summary())\n",
    "#%%"
   ]
  },
  {
   "cell_type": "code",
   "execution_count": 76,
   "metadata": {
    "scrolled": true
   },
   "outputs": [
    {
     "data": {
      "image/png": "[encoded data removed]",
      "text/plain": [
       "<Figure size 1008x504 with 1 Axes>"
      ]
     },
     "metadata": {
      "needs_background": "light"
     },
     "output_type": "display_data"
    }
   ],
   "source": [
    "predicciones = resultados.get_prediction(start=20, end=50, dynamic=False)\n",
    "pred_ci = predicciones.conf_int()\n",
    "ax = co2_date.plot(label='observados')\n",
    "predicciones.predicted_mean.plot(ax=ax, label='Pronóstico con un paso hacia adelante', alpha=.7, figsize=(14,7))\n",
    "ax.fill_between(pred_ci.index,\n",
    "                pred_ci.iloc[:,0],\n",
    "                pred_ci.iloc[:,1],\n",
    "                color='k',\n",
    "                alpha=0.2)\n",
    "ax.set_xlabel('Fecha')\n",
    "ax.set_ylabel('Ppm CO2')\n",
    "plt.legend()\n",
    "plt.show()"
   ]
  },
  {
   "cell_type": "code",
   "execution_count": 75,
   "metadata": {},
   "outputs": [
    {
     "data": {
      "image/png": "[encoded data removed]",
      "text/plain": [
       "<Figure size 1008x504 with 1 Axes>"
      ]
     },
     "metadata": {
      "needs_background": "light"
     },
     "output_type": "display_data"
    }
   ],
   "source": [
    "prediccion_futuro=resultados.get_forecast(22)\n",
    "pred_ci=prediccion_futuro.conf_int()\n",
    "ax=y.plot(label='Observadito',figsize=(14,7))\n",
    "prediccion_futuro.predicted_mean.plot(ax=ax,label='Pronostico/Presupuesto')\n",
    "ax.fill_between(pred_ci.index,\n",
    "                pred_ci.iloc[:,0],\n",
    "                pred_ci.iloc[:,1],\n",
    "                color='k',\n",
    "                alpha=0.2)\n",
    "ax.set_xlabel('Periodo')\n",
    "ax.set_ylabel('Ppm CO2')\n",
    "plt.legend()\n",
    "plt.show()\n"
   ]
  },
  {
   "cell_type": "markdown",
   "metadata": {},
   "source": [
    "## Modelo ppm año 0 actual "
   ]
  },
  {
   "cell_type": "code",
   "execution_count": 125,
   "metadata": {},
   "outputs": [],
   "source": [
    "actual=pd.read_csv('co2_new.csv')"
   ]
  },
  {
   "cell_type": "code",
   "execution_count": 126,
   "metadata": {},
   "outputs": [
    {
     "data": {
      "text/html": [
       "<div>\n",
       "<style scoped>\n",
       "    .dataframe tbody tr th:only-of-type {\n",
       "        vertical-align: middle;\n",
       "    }\n",
       "\n",
       "    .dataframe tbody tr th {\n",
       "        vertical-align: top;\n",
       "    }\n",
       "\n",
       "    .dataframe thead th {\n",
       "        text-align: right;\n",
       "    }\n",
       "</style>\n",
       "<table border=\"1\" class=\"dataframe\">\n",
       "  <thead>\n",
       "    <tr style=\"text-align: right;\">\n",
       "      <th></th>\n",
       "      <th>year</th>\n",
       "      <th>mean</th>\n",
       "      <th>unc</th>\n",
       "    </tr>\n",
       "  </thead>\n",
       "  <tbody>\n",
       "    <tr>\n",
       "      <td>0</td>\n",
       "      <td>1959</td>\n",
       "      <td>315.97</td>\n",
       "      <td>0.12</td>\n",
       "    </tr>\n",
       "    <tr>\n",
       "      <td>1</td>\n",
       "      <td>1960</td>\n",
       "      <td>316.91</td>\n",
       "      <td>0.12</td>\n",
       "    </tr>\n",
       "    <tr>\n",
       "      <td>2</td>\n",
       "      <td>1961</td>\n",
       "      <td>317.64</td>\n",
       "      <td>0.12</td>\n",
       "    </tr>\n",
       "    <tr>\n",
       "      <td>3</td>\n",
       "      <td>1962</td>\n",
       "      <td>318.45</td>\n",
       "      <td>0.12</td>\n",
       "    </tr>\n",
       "    <tr>\n",
       "      <td>4</td>\n",
       "      <td>1963</td>\n",
       "      <td>318.99</td>\n",
       "      <td>0.12</td>\n",
       "    </tr>\n",
       "  </tbody>\n",
       "</table>\n",
       "</div>"
      ],
      "text/plain": [
       "   year    mean   unc\n",
       "0  1959  315.97  0.12\n",
       "1  1960  316.91  0.12\n",
       "2  1961  317.64  0.12\n",
       "3  1962  318.45  0.12\n",
       "4  1963  318.99  0.12"
      ]
     },
     "execution_count": 126,
     "metadata": {},
     "output_type": "execute_result"
    }
   ],
   "source": [
    "actual=pd.DataFrame(actual)\n",
    "actual.head()"
   ]
  },
  {
   "cell_type": "code",
   "execution_count": 127,
   "metadata": {},
   "outputs": [
    {
     "data": {
      "text/html": [
       "<div>\n",
       "<style scoped>\n",
       "    .dataframe tbody tr th:only-of-type {\n",
       "        vertical-align: middle;\n",
       "    }\n",
       "\n",
       "    .dataframe tbody tr th {\n",
       "        vertical-align: top;\n",
       "    }\n",
       "\n",
       "    .dataframe thead th {\n",
       "        text-align: right;\n",
       "    }\n",
       "</style>\n",
       "<table border=\"1\" class=\"dataframe\">\n",
       "  <thead>\n",
       "    <tr style=\"text-align: right;\">\n",
       "      <th></th>\n",
       "      <th>year</th>\n",
       "      <th>mean</th>\n",
       "      <th>unc</th>\n",
       "    </tr>\n",
       "  </thead>\n",
       "  <tbody>\n",
       "    <tr>\n",
       "      <td>0</td>\n",
       "      <td>1959-01-01</td>\n",
       "      <td>315.97</td>\n",
       "      <td>0.12</td>\n",
       "    </tr>\n",
       "    <tr>\n",
       "      <td>1</td>\n",
       "      <td>1960-01-01</td>\n",
       "      <td>316.91</td>\n",
       "      <td>0.12</td>\n",
       "    </tr>\n",
       "    <tr>\n",
       "      <td>2</td>\n",
       "      <td>1961-01-01</td>\n",
       "      <td>317.64</td>\n",
       "      <td>0.12</td>\n",
       "    </tr>\n",
       "    <tr>\n",
       "      <td>3</td>\n",
       "      <td>1962-01-01</td>\n",
       "      <td>318.45</td>\n",
       "      <td>0.12</td>\n",
       "    </tr>\n",
       "    <tr>\n",
       "      <td>4</td>\n",
       "      <td>1963-01-01</td>\n",
       "      <td>318.99</td>\n",
       "      <td>0.12</td>\n",
       "    </tr>\n",
       "    <tr>\n",
       "      <td>...</td>\n",
       "      <td>...</td>\n",
       "      <td>...</td>\n",
       "      <td>...</td>\n",
       "    </tr>\n",
       "    <tr>\n",
       "      <td>56</td>\n",
       "      <td>2015-01-01</td>\n",
       "      <td>400.83</td>\n",
       "      <td>0.12</td>\n",
       "    </tr>\n",
       "    <tr>\n",
       "      <td>57</td>\n",
       "      <td>2016-01-01</td>\n",
       "      <td>404.24</td>\n",
       "      <td>0.12</td>\n",
       "    </tr>\n",
       "    <tr>\n",
       "      <td>58</td>\n",
       "      <td>2017-01-01</td>\n",
       "      <td>406.55</td>\n",
       "      <td>0.12</td>\n",
       "    </tr>\n",
       "    <tr>\n",
       "      <td>59</td>\n",
       "      <td>2018-01-01</td>\n",
       "      <td>408.52</td>\n",
       "      <td>0.12</td>\n",
       "    </tr>\n",
       "    <tr>\n",
       "      <td>60</td>\n",
       "      <td>2019-01-01</td>\n",
       "      <td>411.43</td>\n",
       "      <td>0.12</td>\n",
       "    </tr>\n",
       "  </tbody>\n",
       "</table>\n",
       "<p>61 rows × 3 columns</p>\n",
       "</div>"
      ],
      "text/plain": [
       "         year    mean   unc\n",
       "0  1959-01-01  315.97  0.12\n",
       "1  1960-01-01  316.91  0.12\n",
       "2  1961-01-01  317.64  0.12\n",
       "3  1962-01-01  318.45  0.12\n",
       "4  1963-01-01  318.99  0.12\n",
       "..        ...     ...   ...\n",
       "56 2015-01-01  400.83  0.12\n",
       "57 2016-01-01  404.24  0.12\n",
       "58 2017-01-01  406.55  0.12\n",
       "59 2018-01-01  408.52  0.12\n",
       "60 2019-01-01  411.43  0.12\n",
       "\n",
       "[61 rows x 3 columns]"
      ]
     },
     "execution_count": 127,
     "metadata": {},
     "output_type": "execute_result"
    }
   ],
   "source": [
    "actual['year'] = pd.to_datetime(actual['year'], format= '%Y')\n",
    "actual"
   ]
  },
  {
   "cell_type": "code",
   "execution_count": 111,
   "metadata": {},
   "outputs": [
    {
     "data": {
      "text/html": [
       "<div>\n",
       "<style scoped>\n",
       "    .dataframe tbody tr th:only-of-type {\n",
       "        vertical-align: middle;\n",
       "    }\n",
       "\n",
       "    .dataframe tbody tr th {\n",
       "        vertical-align: top;\n",
       "    }\n",
       "\n",
       "    .dataframe thead th {\n",
       "        text-align: right;\n",
       "    }\n",
       "</style>\n",
       "<table border=\"1\" class=\"dataframe\">\n",
       "  <thead>\n",
       "    <tr style=\"text-align: right;\">\n",
       "      <th></th>\n",
       "      <th>year</th>\n",
       "      <th>mean</th>\n",
       "      <th>unc</th>\n",
       "      <th>Year</th>\n",
       "    </tr>\n",
       "  </thead>\n",
       "  <tbody>\n",
       "    <tr>\n",
       "      <td>0</td>\n",
       "      <td>1959-01-01</td>\n",
       "      <td>315.97</td>\n",
       "      <td>0.12</td>\n",
       "      <td>1959</td>\n",
       "    </tr>\n",
       "    <tr>\n",
       "      <td>1</td>\n",
       "      <td>1960-01-01</td>\n",
       "      <td>316.91</td>\n",
       "      <td>0.12</td>\n",
       "      <td>1960</td>\n",
       "    </tr>\n",
       "    <tr>\n",
       "      <td>2</td>\n",
       "      <td>1961-01-01</td>\n",
       "      <td>317.64</td>\n",
       "      <td>0.12</td>\n",
       "      <td>1961</td>\n",
       "    </tr>\n",
       "    <tr>\n",
       "      <td>3</td>\n",
       "      <td>1962-01-01</td>\n",
       "      <td>318.45</td>\n",
       "      <td>0.12</td>\n",
       "      <td>1962</td>\n",
       "    </tr>\n",
       "    <tr>\n",
       "      <td>4</td>\n",
       "      <td>1963-01-01</td>\n",
       "      <td>318.99</td>\n",
       "      <td>0.12</td>\n",
       "      <td>1963</td>\n",
       "    </tr>\n",
       "    <tr>\n",
       "      <td>...</td>\n",
       "      <td>...</td>\n",
       "      <td>...</td>\n",
       "      <td>...</td>\n",
       "      <td>...</td>\n",
       "    </tr>\n",
       "    <tr>\n",
       "      <td>56</td>\n",
       "      <td>2015-01-01</td>\n",
       "      <td>400.83</td>\n",
       "      <td>0.12</td>\n",
       "      <td>2015</td>\n",
       "    </tr>\n",
       "    <tr>\n",
       "      <td>57</td>\n",
       "      <td>2016-01-01</td>\n",
       "      <td>404.24</td>\n",
       "      <td>0.12</td>\n",
       "      <td>2016</td>\n",
       "    </tr>\n",
       "    <tr>\n",
       "      <td>58</td>\n",
       "      <td>2017-01-01</td>\n",
       "      <td>406.55</td>\n",
       "      <td>0.12</td>\n",
       "      <td>2017</td>\n",
       "    </tr>\n",
       "    <tr>\n",
       "      <td>59</td>\n",
       "      <td>2018-01-01</td>\n",
       "      <td>408.52</td>\n",
       "      <td>0.12</td>\n",
       "      <td>2018</td>\n",
       "    </tr>\n",
       "    <tr>\n",
       "      <td>60</td>\n",
       "      <td>2019-01-01</td>\n",
       "      <td>411.43</td>\n",
       "      <td>0.12</td>\n",
       "      <td>2019</td>\n",
       "    </tr>\n",
       "  </tbody>\n",
       "</table>\n",
       "<p>61 rows × 4 columns</p>\n",
       "</div>"
      ],
      "text/plain": [
       "         year    mean   unc  Year\n",
       "0  1959-01-01  315.97  0.12  1959\n",
       "1  1960-01-01  316.91  0.12  1960\n",
       "2  1961-01-01  317.64  0.12  1961\n",
       "3  1962-01-01  318.45  0.12  1962\n",
       "4  1963-01-01  318.99  0.12  1963\n",
       "..        ...     ...   ...   ...\n",
       "56 2015-01-01  400.83  0.12  2015\n",
       "57 2016-01-01  404.24  0.12  2016\n",
       "58 2017-01-01  406.55  0.12  2017\n",
       "59 2018-01-01  408.52  0.12  2018\n",
       "60 2019-01-01  411.43  0.12  2019\n",
       "\n",
       "[61 rows x 4 columns]"
      ]
     },
     "execution_count": 111,
     "metadata": {},
     "output_type": "execute_result"
    }
   ],
   "source": [
    "actual['Year'] = actual['year'].dt.year\n",
    "actual"
   ]
  },
  {
   "cell_type": "code",
   "execution_count": 128,
   "metadata": {},
   "outputs": [],
   "source": [
    "actual['years'] = pd.DatetimeIndex(actual['year']).year"
   ]
  },
  {
   "cell_type": "code",
   "execution_count": 129,
   "metadata": {},
   "outputs": [
    {
     "data": {
      "text/plain": [
       "year     datetime64[ns]\n",
       "mean            float64\n",
       "unc             float64\n",
       "years             int64\n",
       "dtype: object"
      ]
     },
     "execution_count": 129,
     "metadata": {},
     "output_type": "execute_result"
    }
   ],
   "source": [
    "actual.dtypes"
   ]
  },
  {
   "cell_type": "code",
   "execution_count": 131,
   "metadata": {},
   "outputs": [
    {
     "data": {
      "text/html": [
       "<div>\n",
       "<style scoped>\n",
       "    .dataframe tbody tr th:only-of-type {\n",
       "        vertical-align: middle;\n",
       "    }\n",
       "\n",
       "    .dataframe tbody tr th {\n",
       "        vertical-align: top;\n",
       "    }\n",
       "\n",
       "    .dataframe thead th {\n",
       "        text-align: right;\n",
       "    }\n",
       "</style>\n",
       "<table border=\"1\" class=\"dataframe\">\n",
       "  <thead>\n",
       "    <tr style=\"text-align: right;\">\n",
       "      <th></th>\n",
       "      <th>mean</th>\n",
       "      <th>unc</th>\n",
       "      <th>years</th>\n",
       "    </tr>\n",
       "    <tr>\n",
       "      <th>year</th>\n",
       "      <th></th>\n",
       "      <th></th>\n",
       "      <th></th>\n",
       "    </tr>\n",
       "  </thead>\n",
       "  <tbody>\n",
       "    <tr>\n",
       "      <td>1959-01-01</td>\n",
       "      <td>315.97</td>\n",
       "      <td>0.12</td>\n",
       "      <td>1959</td>\n",
       "    </tr>\n",
       "    <tr>\n",
       "      <td>1960-01-01</td>\n",
       "      <td>316.91</td>\n",
       "      <td>0.12</td>\n",
       "      <td>1960</td>\n",
       "    </tr>\n",
       "    <tr>\n",
       "      <td>1961-01-01</td>\n",
       "      <td>317.64</td>\n",
       "      <td>0.12</td>\n",
       "      <td>1961</td>\n",
       "    </tr>\n",
       "    <tr>\n",
       "      <td>1962-01-01</td>\n",
       "      <td>318.45</td>\n",
       "      <td>0.12</td>\n",
       "      <td>1962</td>\n",
       "    </tr>\n",
       "    <tr>\n",
       "      <td>1963-01-01</td>\n",
       "      <td>318.99</td>\n",
       "      <td>0.12</td>\n",
       "      <td>1963</td>\n",
       "    </tr>\n",
       "    <tr>\n",
       "      <td>...</td>\n",
       "      <td>...</td>\n",
       "      <td>...</td>\n",
       "      <td>...</td>\n",
       "    </tr>\n",
       "    <tr>\n",
       "      <td>2015-01-01</td>\n",
       "      <td>400.83</td>\n",
       "      <td>0.12</td>\n",
       "      <td>2015</td>\n",
       "    </tr>\n",
       "    <tr>\n",
       "      <td>2016-01-01</td>\n",
       "      <td>404.24</td>\n",
       "      <td>0.12</td>\n",
       "      <td>2016</td>\n",
       "    </tr>\n",
       "    <tr>\n",
       "      <td>2017-01-01</td>\n",
       "      <td>406.55</td>\n",
       "      <td>0.12</td>\n",
       "      <td>2017</td>\n",
       "    </tr>\n",
       "    <tr>\n",
       "      <td>2018-01-01</td>\n",
       "      <td>408.52</td>\n",
       "      <td>0.12</td>\n",
       "      <td>2018</td>\n",
       "    </tr>\n",
       "    <tr>\n",
       "      <td>2019-01-01</td>\n",
       "      <td>411.43</td>\n",
       "      <td>0.12</td>\n",
       "      <td>2019</td>\n",
       "    </tr>\n",
       "  </tbody>\n",
       "</table>\n",
       "<p>61 rows × 3 columns</p>\n",
       "</div>"
      ],
      "text/plain": [
       "              mean   unc  years\n",
       "year                           \n",
       "1959-01-01  315.97  0.12   1959\n",
       "1960-01-01  316.91  0.12   1960\n",
       "1961-01-01  317.64  0.12   1961\n",
       "1962-01-01  318.45  0.12   1962\n",
       "1963-01-01  318.99  0.12   1963\n",
       "...            ...   ...    ...\n",
       "2015-01-01  400.83  0.12   2015\n",
       "2016-01-01  404.24  0.12   2016\n",
       "2017-01-01  406.55  0.12   2017\n",
       "2018-01-01  408.52  0.12   2018\n",
       "2019-01-01  411.43  0.12   2019\n",
       "\n",
       "[61 rows x 3 columns]"
      ]
     },
     "execution_count": 131,
     "metadata": {},
     "output_type": "execute_result"
    }
   ],
   "source": [
    "actual=actual.set_index('year')\n",
    "actual"
   ]
  },
  {
   "cell_type": "code",
   "execution_count": 132,
   "metadata": {},
   "outputs": [],
   "source": [
    "actual=actual.drop(['unc','years'], axis=1)"
   ]
  },
  {
   "cell_type": "code",
   "execution_count": 114,
   "metadata": {},
   "outputs": [
    {
     "data": {
      "text/html": [
       "<div>\n",
       "<style scoped>\n",
       "    .dataframe tbody tr th:only-of-type {\n",
       "        vertical-align: middle;\n",
       "    }\n",
       "\n",
       "    .dataframe tbody tr th {\n",
       "        vertical-align: top;\n",
       "    }\n",
       "\n",
       "    .dataframe thead th {\n",
       "        text-align: right;\n",
       "    }\n",
       "</style>\n",
       "<table border=\"1\" class=\"dataframe\">\n",
       "  <thead>\n",
       "    <tr style=\"text-align: right;\">\n",
       "      <th></th>\n",
       "      <th>year</th>\n",
       "      <th>mean</th>\n",
       "      <th>unc</th>\n",
       "      <th>Year</th>\n",
       "    </tr>\n",
       "    <tr>\n",
       "      <th>years</th>\n",
       "      <th></th>\n",
       "      <th></th>\n",
       "      <th></th>\n",
       "      <th></th>\n",
       "    </tr>\n",
       "  </thead>\n",
       "  <tbody>\n",
       "    <tr>\n",
       "      <td>1959</td>\n",
       "      <td>1959-01-01</td>\n",
       "      <td>315.97</td>\n",
       "      <td>0.12</td>\n",
       "      <td>1959</td>\n",
       "    </tr>\n",
       "    <tr>\n",
       "      <td>1960</td>\n",
       "      <td>1960-01-01</td>\n",
       "      <td>316.91</td>\n",
       "      <td>0.12</td>\n",
       "      <td>1960</td>\n",
       "    </tr>\n",
       "    <tr>\n",
       "      <td>1961</td>\n",
       "      <td>1961-01-01</td>\n",
       "      <td>317.64</td>\n",
       "      <td>0.12</td>\n",
       "      <td>1961</td>\n",
       "    </tr>\n",
       "    <tr>\n",
       "      <td>1962</td>\n",
       "      <td>1962-01-01</td>\n",
       "      <td>318.45</td>\n",
       "      <td>0.12</td>\n",
       "      <td>1962</td>\n",
       "    </tr>\n",
       "    <tr>\n",
       "      <td>1963</td>\n",
       "      <td>1963-01-01</td>\n",
       "      <td>318.99</td>\n",
       "      <td>0.12</td>\n",
       "      <td>1963</td>\n",
       "    </tr>\n",
       "    <tr>\n",
       "      <td>...</td>\n",
       "      <td>...</td>\n",
       "      <td>...</td>\n",
       "      <td>...</td>\n",
       "      <td>...</td>\n",
       "    </tr>\n",
       "    <tr>\n",
       "      <td>2015</td>\n",
       "      <td>2015-01-01</td>\n",
       "      <td>400.83</td>\n",
       "      <td>0.12</td>\n",
       "      <td>2015</td>\n",
       "    </tr>\n",
       "    <tr>\n",
       "      <td>2016</td>\n",
       "      <td>2016-01-01</td>\n",
       "      <td>404.24</td>\n",
       "      <td>0.12</td>\n",
       "      <td>2016</td>\n",
       "    </tr>\n",
       "    <tr>\n",
       "      <td>2017</td>\n",
       "      <td>2017-01-01</td>\n",
       "      <td>406.55</td>\n",
       "      <td>0.12</td>\n",
       "      <td>2017</td>\n",
       "    </tr>\n",
       "    <tr>\n",
       "      <td>2018</td>\n",
       "      <td>2018-01-01</td>\n",
       "      <td>408.52</td>\n",
       "      <td>0.12</td>\n",
       "      <td>2018</td>\n",
       "    </tr>\n",
       "    <tr>\n",
       "      <td>2019</td>\n",
       "      <td>2019-01-01</td>\n",
       "      <td>411.43</td>\n",
       "      <td>0.12</td>\n",
       "      <td>2019</td>\n",
       "    </tr>\n",
       "  </tbody>\n",
       "</table>\n",
       "<p>61 rows × 4 columns</p>\n",
       "</div>"
      ],
      "text/plain": [
       "            year    mean   unc  Year\n",
       "years                               \n",
       "1959  1959-01-01  315.97  0.12  1959\n",
       "1960  1960-01-01  316.91  0.12  1960\n",
       "1961  1961-01-01  317.64  0.12  1961\n",
       "1962  1962-01-01  318.45  0.12  1962\n",
       "1963  1963-01-01  318.99  0.12  1963\n",
       "...          ...     ...   ...   ...\n",
       "2015  2015-01-01  400.83  0.12  2015\n",
       "2016  2016-01-01  404.24  0.12  2016\n",
       "2017  2017-01-01  406.55  0.12  2017\n",
       "2018  2018-01-01  408.52  0.12  2018\n",
       "2019  2019-01-01  411.43  0.12  2019\n",
       "\n",
       "[61 rows x 4 columns]"
      ]
     },
     "execution_count": 114,
     "metadata": {},
     "output_type": "execute_result"
    }
   ],
   "source": [
    "co2=actual.set_index('years')\n",
    "co2"
   ]
  },
  {
   "cell_type": "code",
   "execution_count": 121,
   "metadata": {},
   "outputs": [],
   "source": [
    "#co2.index= pd.to_datetime(co2.index, format='%Y').year\n"
   ]
  },
  {
   "cell_type": "code",
   "execution_count": 120,
   "metadata": {
    "scrolled": true
   },
   "outputs": [
    {
     "data": {
      "text/plain": [
       "<matplotlib.axes._subplots.AxesSubplot at 0x2845042bf08>"
      ]
     },
     "execution_count": 120,
     "metadata": {},
     "output_type": "execute_result"
    },
    {
     "data": {
      "image/png": "[encoded data removed]",
      "text/plain": [
       "<Figure size 1080x432 with 1 Axes>"
      ]
     },
     "metadata": {
      "needs_background": "light"
     },
     "output_type": "display_data"
    }
   ],
   "source": [
    "matplotlib.rcParams['axes.labelsize'] = 14\n",
    "matplotlib.rcParams['xtick.labelsize'] = 12\n",
    "matplotlib.rcParams['ytick.labelsize'] = 12\n",
    "matplotlib.rcParams['text.color'] = 'k'\n",
    "actual.plot(figsize=(15,6))"
   ]
  },
  {
   "cell_type": "markdown",
   "metadata": {},
   "source": [
    "1. s"
   ]
  }
 ],
 "metadata": {
  "kernelspec": {
   "display_name": "Python 3",
   "language": "python",
   "name": "python3"
  },
  "language_info": {
   "codemirror_mode": {
    "name": "ipython",
    "version": 3
   },
   "file_extension": ".py",
   "mimetype": "text/x-python",
   "name": "python",
   "nbconvert_exporter": "python",
   "pygments_lexer": "ipython3",
   "version": "3.7.4"
  }
 },
 "nbformat": 4,
 "nbformat_minor": 2
}
